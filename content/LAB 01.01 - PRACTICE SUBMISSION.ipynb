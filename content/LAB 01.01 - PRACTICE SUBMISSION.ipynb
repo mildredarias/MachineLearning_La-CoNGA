{
  "nbformat": 4,
  "nbformat_minor": 0,
  "metadata": {
    "kernelspec": {
      "display_name": "Python 3",
      "language": "python",
      "name": "python3"
    },
    "language_info": {
      "codemirror_mode": {
        "name": "ipython",
        "version": 3
      },
      "file_extension": ".py",
      "mimetype": "text/x-python",
      "name": "python",
      "nbconvert_exporter": "python",
      "pygments_lexer": "ipython3",
      "version": "3.7.3"
    },
    "toc": {
      "toc_cell": false,
      "toc_number_sections": true,
      "toc_threshold": 6,
      "toc_window_display": false
    },
    "colab": {
      "name": "LAB 01.01 - PRACTICE SUBMISSION.ipynb",
      "provenance": []
    },
    "widgets": {
      "application/vnd.jupyter.widget-state+json": {
        "859a4c9c31d64993b2fe3600665c7a91": {
          "model_module": "@jupyter-widgets/controls",
          "model_name": "HBoxModel",
          "state": {
            "_view_name": "HBoxView",
            "_dom_classes": [],
            "_model_name": "HBoxModel",
            "_view_module": "@jupyter-widgets/controls",
            "_model_module_version": "1.5.0",
            "_view_count": null,
            "_view_module_version": "1.5.0",
            "box_style": "",
            "layout": "IPY_MODEL_d9f3869f504a4d85aceec788ec5f360a",
            "_model_module": "@jupyter-widgets/controls",
            "children": [
              "IPY_MODEL_abfd91125a324bc5bdf733c2e0c1a7f8",
              "IPY_MODEL_685217dd31744ce7b75ec1feb9c3063b",
              "IPY_MODEL_a8fa8cc6fe914d2f8f06e4c2daf67071",
              "IPY_MODEL_8430ca9084f048f090d2d5b3751af586"
            ]
          }
        },
        "d9f3869f504a4d85aceec788ec5f360a": {
          "model_module": "@jupyter-widgets/base",
          "model_name": "LayoutModel",
          "state": {
            "_view_name": "LayoutView",
            "grid_template_rows": null,
            "right": null,
            "justify_content": null,
            "_view_module": "@jupyter-widgets/base",
            "overflow": null,
            "_model_module_version": "1.2.0",
            "_view_count": null,
            "flex_flow": null,
            "width": null,
            "min_width": null,
            "border": null,
            "align_items": null,
            "bottom": null,
            "_model_module": "@jupyter-widgets/base",
            "top": null,
            "grid_column": null,
            "overflow_y": null,
            "overflow_x": null,
            "grid_auto_flow": null,
            "grid_area": null,
            "grid_template_columns": null,
            "flex": null,
            "_model_name": "LayoutModel",
            "justify_items": null,
            "grid_row": null,
            "max_height": null,
            "align_content": null,
            "visibility": null,
            "align_self": null,
            "height": null,
            "min_height": null,
            "padding": null,
            "grid_auto_rows": null,
            "grid_gap": null,
            "max_width": null,
            "order": null,
            "_view_module_version": "1.2.0",
            "grid_template_areas": null,
            "object_position": null,
            "object_fit": null,
            "grid_auto_columns": null,
            "margin": null,
            "display": null,
            "left": null
          }
        },
        "abfd91125a324bc5bdf733c2e0c1a7f8": {
          "model_module": "@jupyter-widgets/controls",
          "model_name": "VBoxModel",
          "state": {
            "_view_name": "VBoxView",
            "_dom_classes": [],
            "_model_name": "VBoxModel",
            "_view_module": "@jupyter-widgets/controls",
            "_model_module_version": "1.5.0",
            "_view_count": null,
            "_view_module_version": "1.5.0",
            "box_style": "",
            "layout": "IPY_MODEL_e9a8b8e31569498fbf63ddabdc500200",
            "_model_module": "@jupyter-widgets/controls",
            "children": [
              "IPY_MODEL_d8f4163c551f4324b891c3c0a2c94950",
              "IPY_MODEL_30385898028940a0b9ace0f9829cc926"
            ]
          }
        },
        "685217dd31744ce7b75ec1feb9c3063b": {
          "model_module": "@jupyter-widgets/controls",
          "model_name": "ButtonModel",
          "state": {
            "_view_name": "ButtonView",
            "style": "IPY_MODEL_52961cacfa0d47139867428c5e62c847",
            "_dom_classes": [
              "login_button"
            ],
            "description": "Login with email",
            "_model_name": "ButtonModel",
            "button_style": "",
            "_view_module": "@jupyter-widgets/controls",
            "_model_module_version": "1.5.0",
            "tooltip": "",
            "_view_count": null,
            "disabled": false,
            "_view_module_version": "1.5.0",
            "layout": "IPY_MODEL_035f8294e55f440390a46a00a066f561",
            "_model_module": "@jupyter-widgets/controls",
            "icon": ""
          }
        },
        "a8fa8cc6fe914d2f8f06e4c2daf67071": {
          "model_module": "@jupyter-widgets/controls",
          "model_name": "HTMLModel",
          "state": {
            "_view_name": "HTMLView",
            "style": "IPY_MODEL_1062a30969834d97b27a9138fc40d59f",
            "_dom_classes": [],
            "description": "",
            "_model_name": "HTMLModel",
            "placeholder": "​",
            "_view_module": "@jupyter-widgets/controls",
            "_model_module_version": "1.5.0",
            "value": "<center><big>or</big></center>",
            "_view_count": null,
            "_view_module_version": "1.5.0",
            "description_tooltip": null,
            "_model_module": "@jupyter-widgets/controls",
            "layout": "IPY_MODEL_0c9d631aedb044ee96780d8914301886"
          }
        },
        "8430ca9084f048f090d2d5b3751af586": {
          "model_module": "@jupyter-widgets/controls",
          "model_name": "ButtonModel",
          "state": {
            "_view_name": "ButtonView",
            "style": "IPY_MODEL_64fc331a39894c3b8b00f889823282ad",
            "_dom_classes": [
              "google_button"
            ],
            "description": "Login with Google",
            "_model_name": "ButtonModel",
            "button_style": "",
            "_view_module": "@jupyter-widgets/controls",
            "_model_module_version": "1.5.0",
            "tooltip": "",
            "_view_count": null,
            "disabled": false,
            "_view_module_version": "1.5.0",
            "layout": "IPY_MODEL_50a1258a76124b2290434b58c2e720ec",
            "_model_module": "@jupyter-widgets/controls",
            "icon": ""
          }
        },
        "e9a8b8e31569498fbf63ddabdc500200": {
          "model_module": "@jupyter-widgets/base",
          "model_name": "LayoutModel",
          "state": {
            "_view_name": "LayoutView",
            "grid_template_rows": null,
            "right": null,
            "justify_content": null,
            "_view_module": "@jupyter-widgets/base",
            "overflow": null,
            "_model_module_version": "1.2.0",
            "_view_count": null,
            "flex_flow": null,
            "width": null,
            "min_width": null,
            "border": null,
            "align_items": null,
            "bottom": null,
            "_model_module": "@jupyter-widgets/base",
            "top": null,
            "grid_column": null,
            "overflow_y": null,
            "overflow_x": null,
            "grid_auto_flow": null,
            "grid_area": null,
            "grid_template_columns": null,
            "flex": null,
            "_model_name": "LayoutModel",
            "justify_items": null,
            "grid_row": null,
            "max_height": null,
            "align_content": null,
            "visibility": null,
            "align_self": null,
            "height": null,
            "min_height": null,
            "padding": null,
            "grid_auto_rows": null,
            "grid_gap": null,
            "max_width": null,
            "order": null,
            "_view_module_version": "1.2.0",
            "grid_template_areas": null,
            "object_position": null,
            "object_fit": null,
            "grid_auto_columns": null,
            "margin": null,
            "display": null,
            "left": null
          }
        },
        "d8f4163c551f4324b891c3c0a2c94950": {
          "model_module": "@jupyter-widgets/controls",
          "model_name": "TextModel",
          "state": {
            "_view_name": "TextView",
            "style": "IPY_MODEL_406b6bbc204f4ed596854cd9a13af17d",
            "_dom_classes": [],
            "description": "email",
            "_model_name": "TextModel",
            "placeholder": "​",
            "_view_module": "@jupyter-widgets/controls",
            "_model_module_version": "1.5.0",
            "value": "",
            "_view_count": null,
            "disabled": false,
            "_view_module_version": "1.5.0",
            "continuous_update": true,
            "description_tooltip": null,
            "_model_module": "@jupyter-widgets/controls",
            "layout": "IPY_MODEL_018479a79716466fb47bb7d00bf09760"
          }
        },
        "30385898028940a0b9ace0f9829cc926": {
          "model_module": "@jupyter-widgets/controls",
          "model_name": "PasswordModel",
          "state": {
            "_view_name": "PasswordView",
            "style": "IPY_MODEL_90b0f6b8f073437fbeb854ad68c9d557",
            "_dom_classes": [],
            "description": "password",
            "_model_name": "PasswordModel",
            "placeholder": "​",
            "_view_module": "@jupyter-widgets/controls",
            "_model_module_version": "1.5.0",
            "value": "",
            "_view_count": null,
            "disabled": false,
            "_view_module_version": "1.5.0",
            "continuous_update": true,
            "description_tooltip": null,
            "_model_module": "@jupyter-widgets/controls",
            "layout": "IPY_MODEL_d0e2b406d1e644a582aead414c3b4a9b"
          }
        },
        "52961cacfa0d47139867428c5e62c847": {
          "model_module": "@jupyter-widgets/controls",
          "model_name": "ButtonStyleModel",
          "state": {
            "_view_name": "StyleView",
            "_model_name": "ButtonStyleModel",
            "_view_module": "@jupyter-widgets/base",
            "_model_module_version": "1.5.0",
            "_view_count": null,
            "button_color": null,
            "font_weight": "",
            "_view_module_version": "1.2.0",
            "_model_module": "@jupyter-widgets/controls"
          }
        },
        "035f8294e55f440390a46a00a066f561": {
          "model_module": "@jupyter-widgets/base",
          "model_name": "LayoutModel",
          "state": {
            "_view_name": "LayoutView",
            "grid_template_rows": null,
            "right": null,
            "justify_content": null,
            "_view_module": "@jupyter-widgets/base",
            "overflow": null,
            "_model_module_version": "1.2.0",
            "_view_count": null,
            "flex_flow": null,
            "width": "150px",
            "min_width": null,
            "border": null,
            "align_items": null,
            "bottom": null,
            "_model_module": "@jupyter-widgets/base",
            "top": null,
            "grid_column": null,
            "overflow_y": null,
            "overflow_x": null,
            "grid_auto_flow": null,
            "grid_area": null,
            "grid_template_columns": null,
            "flex": null,
            "_model_name": "LayoutModel",
            "justify_items": null,
            "grid_row": null,
            "max_height": null,
            "align_content": null,
            "visibility": null,
            "align_self": null,
            "height": "53px",
            "min_height": null,
            "padding": null,
            "grid_auto_rows": null,
            "grid_gap": null,
            "max_width": null,
            "order": null,
            "_view_module_version": "1.2.0",
            "grid_template_areas": null,
            "object_position": null,
            "object_fit": null,
            "grid_auto_columns": null,
            "margin": null,
            "display": null,
            "left": null
          }
        },
        "1062a30969834d97b27a9138fc40d59f": {
          "model_module": "@jupyter-widgets/controls",
          "model_name": "DescriptionStyleModel",
          "state": {
            "_view_name": "StyleView",
            "_model_name": "DescriptionStyleModel",
            "description_width": "",
            "_view_module": "@jupyter-widgets/base",
            "_model_module_version": "1.5.0",
            "_view_count": null,
            "_view_module_version": "1.2.0",
            "_model_module": "@jupyter-widgets/controls"
          }
        },
        "0c9d631aedb044ee96780d8914301886": {
          "model_module": "@jupyter-widgets/base",
          "model_name": "LayoutModel",
          "state": {
            "_view_name": "LayoutView",
            "grid_template_rows": null,
            "right": null,
            "justify_content": null,
            "_view_module": "@jupyter-widgets/base",
            "overflow": null,
            "_model_module_version": "1.2.0",
            "_view_count": null,
            "flex_flow": null,
            "width": "100px",
            "min_width": null,
            "border": null,
            "align_items": null,
            "bottom": null,
            "_model_module": "@jupyter-widgets/base",
            "top": null,
            "grid_column": null,
            "overflow_y": null,
            "overflow_x": null,
            "grid_auto_flow": null,
            "grid_area": null,
            "grid_template_columns": null,
            "flex": null,
            "_model_name": "LayoutModel",
            "justify_items": null,
            "grid_row": null,
            "max_height": null,
            "align_content": null,
            "visibility": null,
            "align_self": null,
            "height": null,
            "min_height": null,
            "padding": null,
            "grid_auto_rows": null,
            "grid_gap": null,
            "max_width": null,
            "order": null,
            "_view_module_version": "1.2.0",
            "grid_template_areas": null,
            "object_position": null,
            "object_fit": null,
            "grid_auto_columns": null,
            "margin": null,
            "display": null,
            "left": null
          }
        },
        "64fc331a39894c3b8b00f889823282ad": {
          "model_module": "@jupyter-widgets/controls",
          "model_name": "ButtonStyleModel",
          "state": {
            "_view_name": "StyleView",
            "_model_name": "ButtonStyleModel",
            "_view_module": "@jupyter-widgets/base",
            "_model_module_version": "1.5.0",
            "_view_count": null,
            "button_color": null,
            "font_weight": "",
            "_view_module_version": "1.2.0",
            "_model_module": "@jupyter-widgets/controls"
          }
        },
        "50a1258a76124b2290434b58c2e720ec": {
          "model_module": "@jupyter-widgets/base",
          "model_name": "LayoutModel",
          "state": {
            "_view_name": "LayoutView",
            "grid_template_rows": null,
            "right": null,
            "justify_content": null,
            "_view_module": "@jupyter-widgets/base",
            "overflow": null,
            "_model_module_version": "1.2.0",
            "_view_count": null,
            "flex_flow": null,
            "width": "200px",
            "min_width": null,
            "border": null,
            "align_items": null,
            "bottom": null,
            "_model_module": "@jupyter-widgets/base",
            "top": null,
            "grid_column": null,
            "overflow_y": null,
            "overflow_x": null,
            "grid_auto_flow": null,
            "grid_area": null,
            "grid_template_columns": null,
            "flex": null,
            "_model_name": "LayoutModel",
            "justify_items": null,
            "grid_row": null,
            "max_height": null,
            "align_content": null,
            "visibility": null,
            "align_self": null,
            "height": "53px",
            "min_height": null,
            "padding": null,
            "grid_auto_rows": null,
            "grid_gap": null,
            "max_width": null,
            "order": null,
            "_view_module_version": "1.2.0",
            "grid_template_areas": null,
            "object_position": null,
            "object_fit": null,
            "grid_auto_columns": null,
            "margin": null,
            "display": null,
            "left": null
          }
        },
        "406b6bbc204f4ed596854cd9a13af17d": {
          "model_module": "@jupyter-widgets/controls",
          "model_name": "DescriptionStyleModel",
          "state": {
            "_view_name": "StyleView",
            "_model_name": "DescriptionStyleModel",
            "description_width": "",
            "_view_module": "@jupyter-widgets/base",
            "_model_module_version": "1.5.0",
            "_view_count": null,
            "_view_module_version": "1.2.0",
            "_model_module": "@jupyter-widgets/controls"
          }
        },
        "018479a79716466fb47bb7d00bf09760": {
          "model_module": "@jupyter-widgets/base",
          "model_name": "LayoutModel",
          "state": {
            "_view_name": "LayoutView",
            "grid_template_rows": null,
            "right": null,
            "justify_content": null,
            "_view_module": "@jupyter-widgets/base",
            "overflow": null,
            "_model_module_version": "1.2.0",
            "_view_count": null,
            "flex_flow": null,
            "width": "300px",
            "min_width": null,
            "border": null,
            "align_items": null,
            "bottom": null,
            "_model_module": "@jupyter-widgets/base",
            "top": null,
            "grid_column": null,
            "overflow_y": null,
            "overflow_x": null,
            "grid_auto_flow": null,
            "grid_area": null,
            "grid_template_columns": null,
            "flex": null,
            "_model_name": "LayoutModel",
            "justify_items": null,
            "grid_row": null,
            "max_height": null,
            "align_content": null,
            "visibility": null,
            "align_self": null,
            "height": "25px",
            "min_height": null,
            "padding": null,
            "grid_auto_rows": null,
            "grid_gap": null,
            "max_width": null,
            "order": null,
            "_view_module_version": "1.2.0",
            "grid_template_areas": null,
            "object_position": null,
            "object_fit": null,
            "grid_auto_columns": null,
            "margin": null,
            "display": null,
            "left": null
          }
        },
        "90b0f6b8f073437fbeb854ad68c9d557": {
          "model_module": "@jupyter-widgets/controls",
          "model_name": "DescriptionStyleModel",
          "state": {
            "_view_name": "StyleView",
            "_model_name": "DescriptionStyleModel",
            "description_width": "",
            "_view_module": "@jupyter-widgets/base",
            "_model_module_version": "1.5.0",
            "_view_count": null,
            "_view_module_version": "1.2.0",
            "_model_module": "@jupyter-widgets/controls"
          }
        },
        "d0e2b406d1e644a582aead414c3b4a9b": {
          "model_module": "@jupyter-widgets/base",
          "model_name": "LayoutModel",
          "state": {
            "_view_name": "LayoutView",
            "grid_template_rows": null,
            "right": null,
            "justify_content": null,
            "_view_module": "@jupyter-widgets/base",
            "overflow": null,
            "_model_module_version": "1.2.0",
            "_view_count": null,
            "flex_flow": null,
            "width": "300px",
            "min_width": null,
            "border": null,
            "align_items": null,
            "bottom": null,
            "_model_module": "@jupyter-widgets/base",
            "top": null,
            "grid_column": null,
            "overflow_y": null,
            "overflow_x": null,
            "grid_auto_flow": null,
            "grid_area": null,
            "grid_template_columns": null,
            "flex": null,
            "_model_name": "LayoutModel",
            "justify_items": null,
            "grid_row": null,
            "max_height": null,
            "align_content": null,
            "visibility": null,
            "align_self": null,
            "height": "24px",
            "min_height": null,
            "padding": null,
            "grid_auto_rows": null,
            "grid_gap": null,
            "max_width": null,
            "order": null,
            "_view_module_version": "1.2.0",
            "grid_template_areas": null,
            "object_position": null,
            "object_fit": null,
            "grid_auto_columns": null,
            "margin": null,
            "display": null,
            "left": null
          }
        }
      }
    }
  },
  "cells": [
    {
      "cell_type": "markdown",
      "metadata": {
        "id": "LUqW93O96eaC"
      },
      "source": [
        "# LAB 01.01 - Practice submission"
      ]
    },
    {
      "cell_type": "code",
      "metadata": {
        "id": "4Qo99vsD6eaD",
        "outputId": "1b2568ab-579d-4cf7-f39e-99c2aaa9561b",
        "colab": {
          "base_uri": "https://localhost:8080/",
          "height": 74
        }
      },
      "source": [
        "!wget --no-cache -O init.py -q https://raw.githubusercontent.com/rramosp/ai4eng.v1/main/content/init.py\n",
        "import init; init.init(force_download=False); init.get_weblink()\n"
      ],
      "execution_count": 1,
      "outputs": [
        {
          "output_type": "display_data",
          "data": {
            "text/html": [
              "\n",
              "<meta name=\"google-signin-client_id\"\n",
              "      content=\"461673936472-kdjosv61up3ac1ajeuq6qqu72upilmls.apps.googleusercontent.com\"/>\n",
              "<script src=\"https://apis.google.com/js/client:platform.js?onload=google_button_start\"></script>\n",
              "    "
            ],
            "text/plain": [
              "<IPython.core.display.HTML object>"
            ]
          },
          "metadata": {
            "tags": []
          }
        },
        {
          "output_type": "stream",
          "text": [
            "replicating local resources\n"
          ],
          "name": "stdout"
        },
        {
          "output_type": "execute_result",
          "data": {
            "text/html": [
              "<h3>See <a href='https://m5knaekxo6.execute-api.us-west-2.amazonaws.com/dev-v0001/rlxmooc/web/login' target='_blank'>my courses and progress</a></h2>"
            ],
            "text/plain": [
              "<IPython.core.display.HTML object>"
            ]
          },
          "metadata": {
            "tags": []
          },
          "execution_count": 1
        }
      ]
    },
    {
      "cell_type": "code",
      "metadata": {
        "id": "a1yXvKqR6eaE",
        "outputId": "1bbf7e80-cfe2-4976-b324-5371d5246671",
        "colab": {
          "base_uri": "https://localhost:8080/",
          "height": 203,
          "referenced_widgets": [
            "859a4c9c31d64993b2fe3600665c7a91",
            "d9f3869f504a4d85aceec788ec5f360a",
            "abfd91125a324bc5bdf733c2e0c1a7f8",
            "685217dd31744ce7b75ec1feb9c3063b",
            "a8fa8cc6fe914d2f8f06e4c2daf67071",
            "8430ca9084f048f090d2d5b3751af586",
            "e9a8b8e31569498fbf63ddabdc500200",
            "d8f4163c551f4324b891c3c0a2c94950",
            "30385898028940a0b9ace0f9829cc926",
            "52961cacfa0d47139867428c5e62c847",
            "035f8294e55f440390a46a00a066f561",
            "1062a30969834d97b27a9138fc40d59f",
            "0c9d631aedb044ee96780d8914301886",
            "64fc331a39894c3b8b00f889823282ad",
            "50a1258a76124b2290434b58c2e720ec",
            "406b6bbc204f4ed596854cd9a13af17d",
            "018479a79716466fb47bb7d00bf09760",
            "90b0f6b8f073437fbeb854ad68c9d557",
            "d0e2b406d1e644a582aead414c3b4a9b"
          ]
        }
      },
      "source": [
        "import inspect\n",
        "from local.lib.rlxmoocapi import session\n",
        "session.LoginSequence(endpoint=init.endpoint, course_id=init.course_id, lab_id=\"L01.01\", varname=\"student\");"
      ],
      "execution_count": 2,
      "outputs": [
        {
          "output_type": "stream",
          "text": [
            "logging in as mildarias181@gmail.com... please wait\n",
            "using course session ai4eng.v1::open\n",
            "success!! you are logged in\n"
          ],
          "name": "stdout"
        }
      ]
    },
    {
      "cell_type": "markdown",
      "metadata": {
        "id": "8qIamhpd6eaF"
      },
      "source": [
        "### Ejercicio 1: Suma dos matrices"
      ]
    },
    {
      "cell_type": "markdown",
      "metadata": {
        "id": "olfpJVvg6eaF"
      },
      "source": [
        "Completa la función `suma_matrices` para que, dadas dos arrays numpy cualquiera devuelva la suma elemento a elemento.\n",
        "\n",
        "#### Ejemplo de ejecución\n",
        "\n",
        "    > s = np.array([1,2,3])\n",
        "    > t = np.array([4,5,6])\n",
        "    > suma_matrices(s,t)\n",
        "    \n",
        "      [5 7 9]\n",
        "     \n",
        "_Sugerencia_: completa el código de la siguiente manera:\n",
        "\n",
        "    def suma_matrices(a,b):\n",
        "       ## --- TU CODIGO AQUI ---\n",
        "       result = a + b\n",
        "       return result"
      ]
    },
    {
      "cell_type": "code",
      "metadata": {
        "id": "EGBAIEL26eaG"
      },
      "source": [
        "\n",
        "def suma_matrices(a,b):\n",
        "    ## --- TU CODIGO AQUI ---\n",
        "    result = a+b\n",
        "    return result\n",
        "\n"
      ],
      "execution_count": 3,
      "outputs": []
    },
    {
      "cell_type": "markdown",
      "metadata": {
        "id": "SxrtJ50_6eaG"
      },
      "source": [
        "comprueba manualmente tu código"
      ]
    },
    {
      "cell_type": "code",
      "metadata": {
        "id": "Tcur0vko6eaH",
        "outputId": "c0c322b5-4e60-46aa-854e-de899c3ed249",
        "colab": {
          "base_uri": "https://localhost:8080/"
        }
      },
      "source": [
        "import numpy as np\n",
        "a = np.random.randint(10, size=(3,2))\n",
        "b = np.random.randint(10, size=(3,2))\n",
        "print (a)\n",
        "print (b)\n",
        "print (suma_matrices(a,b))"
      ],
      "execution_count": 4,
      "outputs": [
        {
          "output_type": "stream",
          "text": [
            "[[5 8]\n",
            " [7 4]\n",
            " [1 6]]\n",
            "[[8 4]\n",
            " [9 4]\n",
            " [8 2]]\n",
            "[[13 12]\n",
            " [16  8]\n",
            " [ 9  8]]\n"
          ],
          "name": "stdout"
        }
      ]
    },
    {
      "cell_type": "markdown",
      "metadata": {
        "id": "enaw0ZD56eaH"
      },
      "source": [
        "#### registra tu solución en línea"
      ]
    },
    {
      "cell_type": "code",
      "metadata": {
        "id": "UTzge6nk6eaI",
        "outputId": "a8199511-b0b5-410a-ce17-c4820f7e66fe",
        "colab": {
          "base_uri": "https://localhost:8080/",
          "height": 126
        }
      },
      "source": [
        "student.submit_task(globals(), task_id=\"task_01\");"
      ],
      "execution_count": 5,
      "outputs": [
        {
          "output_type": "display_data",
          "data": {
            "text/html": [
              "\n",
              "                    <b>task_01 submitted.</b> <b><font color=\"blue\">your grade is 5</font></b> \n",
              "                    <p/><pre>----- grader message -------</pre><pre>\n",
              "checking your code with 100 random calls\n",
              "</pre><b>CORRECT</b><pre>----------------------------</pre>\n",
              "                    <p/><p/>\n",
              "                    <div style=\"font-size:10px\"><b>SUBMISSION CODE</b> auAYEmpe7mCl2RmWyV1/1D+xX/gOaAX5PU9/P9UGbOjgLfaHIZgBdlkSLyFsPowe95Mqjl9nRLBXV1UgnfNGhdpeQ3QGuFzc5ceZunxMvD4f4Ru1VnHfbdQOx503XI4Gowl0uBEEblXL/i6bgzb8Wg==</div>\n",
              "                    "
            ],
            "text/plain": [
              "<IPython.core.display.HTML object>"
            ]
          },
          "metadata": {
            "tags": []
          }
        }
      ]
    },
    {
      "cell_type": "markdown",
      "metadata": {
        "id": "n9EEsXLigoLR"
      },
      "source": [
        "Espacio de Prueba - Mildred Arias\n"
      ]
    },
    {
      "cell_type": "markdown",
      "metadata": {
        "id": "YIwovLOy6eaI"
      },
      "source": [
        "### Ejercicio 2: Realiza un cálculo "
      ]
    },
    {
      "cell_type": "markdown",
      "metadata": {
        "id": "189i29FU6eaJ"
      },
      "source": [
        "En este ejercicio, al ejecutar la celda de más abajo, se generará una lista de número aleatorios.\n",
        "\n",
        "Tendrás que calcular el valor promedio de la lista y asignarlo a la variable `avg` más abajo.\n",
        "\n",
        "Puedes usar el método que quieras para realizar el cálculo (a mano, excel, python, etc.) lo que importa es el valor que obtengas.\n"
      ]
    },
    {
      "cell_type": "code",
      "metadata": {
        "id": "HhXD6WbB6eaJ",
        "outputId": "64869696-154d-43e9-db4c-bb38f61fb136",
        "colab": {
          "base_uri": "https://localhost:8080/"
        }
      },
      "source": [
        "import numpy as np\n",
        "rlist = np.random.randint(100, size=10)\n",
        "rlist"
      ],
      "execution_count": 11,
      "outputs": [
        {
          "output_type": "execute_result",
          "data": {
            "text/plain": [
              "array([71, 13, 71, 88,  4, 70, 22, 25, 12,  3])"
            ]
          },
          "metadata": {
            "tags": []
          },
          "execution_count": 11
        }
      ]
    },
    {
      "cell_type": "code",
      "metadata": {
        "id": "wc5CWTECiqL_",
        "outputId": "a8bcaf3b-6c04-4317-e106-55269f7cecaf",
        "colab": {
          "base_uri": "https://localhost:8080/"
        }
      },
      "source": [
        "np.mean(rlist)"
      ],
      "execution_count": 12,
      "outputs": [
        {
          "output_type": "execute_result",
          "data": {
            "text/plain": [
              "37.9"
            ]
          },
          "metadata": {
            "tags": []
          },
          "execution_count": 12
        }
      ]
    },
    {
      "cell_type": "markdown",
      "metadata": {
        "id": "kePJW2Kw6eaJ"
      },
      "source": [
        "#### tu solución"
      ]
    },
    {
      "cell_type": "code",
      "metadata": {
        "id": "modY17dq6eaJ"
      },
      "source": [
        "avg = 37.9"
      ],
      "execution_count": 13,
      "outputs": []
    },
    {
      "cell_type": "markdown",
      "metadata": {
        "id": "lav_9kXy6eaK"
      },
      "source": [
        "#### registra tu solución en línea"
      ]
    },
    {
      "cell_type": "code",
      "metadata": {
        "id": "TxAo5BW96eaK",
        "outputId": "db96cfc8-9ef9-4b4e-b374-6f8dce605c92",
        "colab": {
          "base_uri": "https://localhost:8080/",
          "height": 109
        }
      },
      "source": [
        "student.submit_task(globals(), task_id=\"task_02\");"
      ],
      "execution_count": 14,
      "outputs": [
        {
          "output_type": "display_data",
          "data": {
            "text/html": [
              "\n",
              "                    <b>task_02 submitted.</b> <b><font color=\"blue\">your grade is 5</font></b> \n",
              "                    <p/><pre>----- grader message -------</pre><b>correct</b><pre>----------------------------</pre>\n",
              "                    <p/><p/>\n",
              "                    <div style=\"font-size:10px\"><b>SUBMISSION CODE</b> nNKWlq+++vI9URFoSo3PQ5OSnbXsvonfXizB/WwUq/MdNjEseaiKD7XEjutTLmV6prUqC2HudLPY/z6cyx1Y57JbHHYrq7d45eQHeCCCDnZaToqKwH81FzRFfQ80Lqi0PPWeSnn0i314b1c1wQUkeg==</div>\n",
              "                    "
            ],
            "text/plain": [
              "<IPython.core.display.HTML object>"
            ]
          },
          "metadata": {
            "tags": []
          }
        }
      ]
    }
  ]
}