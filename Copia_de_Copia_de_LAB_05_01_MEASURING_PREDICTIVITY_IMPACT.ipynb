{
  "nbformat": 4,
  "nbformat_minor": 0,
  "metadata": {
    "kernelspec": {
      "display_name": "Python 3",
      "language": "python",
      "name": "python3"
    },
    "language_info": {
      "codemirror_mode": {
        "name": "ipython",
        "version": 3
      },
      "file_extension": ".py",
      "mimetype": "text/x-python",
      "name": "python",
      "nbconvert_exporter": "python",
      "pygments_lexer": "ipython3",
      "version": "3.7.3"
    },
    "colab": {
      "name": "Copia de Copia de LAB 05.01 - MEASURING PREDICTIVITY IMPACT.ipynb",
      "provenance": [],
      "include_colab_link": true
    },
    "widgets": {
      "application/vnd.jupyter.widget-state+json": {
        "9eb1adf5533842cbbad307fee3c3dc1e": {
          "model_module": "@jupyter-widgets/controls",
          "model_name": "HBoxModel",
          "state": {
            "_view_name": "HBoxView",
            "_dom_classes": [],
            "_model_name": "HBoxModel",
            "_view_module": "@jupyter-widgets/controls",
            "_model_module_version": "1.5.0",
            "_view_count": null,
            "_view_module_version": "1.5.0",
            "box_style": "",
            "layout": "IPY_MODEL_e58376d5de8c44d0bc79fd6b67852849",
            "_model_module": "@jupyter-widgets/controls",
            "children": [
              "IPY_MODEL_2025bd3718eb433eac05cb049039a661",
              "IPY_MODEL_93f4703d58384a47a4fd16e61d1a2f8a",
              "IPY_MODEL_afcd5c8c162f446abb0dc1511c2c6a00",
              "IPY_MODEL_93e8cd6cc937472f838e1242c6f66f82"
            ]
          }
        },
        "e58376d5de8c44d0bc79fd6b67852849": {
          "model_module": "@jupyter-widgets/base",
          "model_name": "LayoutModel",
          "state": {
            "_view_name": "LayoutView",
            "grid_template_rows": null,
            "right": null,
            "justify_content": null,
            "_view_module": "@jupyter-widgets/base",
            "overflow": null,
            "_model_module_version": "1.2.0",
            "_view_count": null,
            "flex_flow": null,
            "width": null,
            "min_width": null,
            "border": null,
            "align_items": null,
            "bottom": null,
            "_model_module": "@jupyter-widgets/base",
            "top": null,
            "grid_column": null,
            "overflow_y": null,
            "overflow_x": null,
            "grid_auto_flow": null,
            "grid_area": null,
            "grid_template_columns": null,
            "flex": null,
            "_model_name": "LayoutModel",
            "justify_items": null,
            "grid_row": null,
            "max_height": null,
            "align_content": null,
            "visibility": null,
            "align_self": null,
            "height": null,
            "min_height": null,
            "padding": null,
            "grid_auto_rows": null,
            "grid_gap": null,
            "max_width": null,
            "order": null,
            "_view_module_version": "1.2.0",
            "grid_template_areas": null,
            "object_position": null,
            "object_fit": null,
            "grid_auto_columns": null,
            "margin": null,
            "display": null,
            "left": null
          }
        },
        "2025bd3718eb433eac05cb049039a661": {
          "model_module": "@jupyter-widgets/controls",
          "model_name": "VBoxModel",
          "state": {
            "_view_name": "VBoxView",
            "_dom_classes": [],
            "_model_name": "VBoxModel",
            "_view_module": "@jupyter-widgets/controls",
            "_model_module_version": "1.5.0",
            "_view_count": null,
            "_view_module_version": "1.5.0",
            "box_style": "",
            "layout": "IPY_MODEL_f1d078f4fdea4b0d92213c41ad9cff0b",
            "_model_module": "@jupyter-widgets/controls",
            "children": [
              "IPY_MODEL_fa4a5657bf74472a98109ba9ff98f387",
              "IPY_MODEL_fd6ee49a5d1c4eeabe80382f257d4e50"
            ]
          }
        },
        "93f4703d58384a47a4fd16e61d1a2f8a": {
          "model_module": "@jupyter-widgets/controls",
          "model_name": "ButtonModel",
          "state": {
            "_view_name": "ButtonView",
            "style": "IPY_MODEL_68d68561136d45a1acd0e8a8fc480bb2",
            "_dom_classes": [
              "login_button"
            ],
            "description": "Login with email",
            "_model_name": "ButtonModel",
            "button_style": "",
            "_view_module": "@jupyter-widgets/controls",
            "_model_module_version": "1.5.0",
            "tooltip": "",
            "_view_count": null,
            "disabled": false,
            "_view_module_version": "1.5.0",
            "layout": "IPY_MODEL_5d5646a234594742bb3c2eee2fe9f6cf",
            "_model_module": "@jupyter-widgets/controls",
            "icon": ""
          }
        },
        "afcd5c8c162f446abb0dc1511c2c6a00": {
          "model_module": "@jupyter-widgets/controls",
          "model_name": "HTMLModel",
          "state": {
            "_view_name": "HTMLView",
            "style": "IPY_MODEL_0719293622ca4613b6dfbc16370b2d70",
            "_dom_classes": [],
            "description": "",
            "_model_name": "HTMLModel",
            "placeholder": "​",
            "_view_module": "@jupyter-widgets/controls",
            "_model_module_version": "1.5.0",
            "value": "<center><big>or</big></center>",
            "_view_count": null,
            "_view_module_version": "1.5.0",
            "description_tooltip": null,
            "_model_module": "@jupyter-widgets/controls",
            "layout": "IPY_MODEL_55e259235e6e4e8e8d0a82e380e01c40"
          }
        },
        "93e8cd6cc937472f838e1242c6f66f82": {
          "model_module": "@jupyter-widgets/controls",
          "model_name": "ButtonModel",
          "state": {
            "_view_name": "ButtonView",
            "style": "IPY_MODEL_4f5d80e1efe34d45842c2cd9f5881c7d",
            "_dom_classes": [
              "google_button"
            ],
            "description": "Login with Google",
            "_model_name": "ButtonModel",
            "button_style": "",
            "_view_module": "@jupyter-widgets/controls",
            "_model_module_version": "1.5.0",
            "tooltip": "",
            "_view_count": null,
            "disabled": false,
            "_view_module_version": "1.5.0",
            "layout": "IPY_MODEL_afd0b0c449314a1bb6e9d9914640fbba",
            "_model_module": "@jupyter-widgets/controls",
            "icon": ""
          }
        },
        "f1d078f4fdea4b0d92213c41ad9cff0b": {
          "model_module": "@jupyter-widgets/base",
          "model_name": "LayoutModel",
          "state": {
            "_view_name": "LayoutView",
            "grid_template_rows": null,
            "right": null,
            "justify_content": null,
            "_view_module": "@jupyter-widgets/base",
            "overflow": null,
            "_model_module_version": "1.2.0",
            "_view_count": null,
            "flex_flow": null,
            "width": null,
            "min_width": null,
            "border": null,
            "align_items": null,
            "bottom": null,
            "_model_module": "@jupyter-widgets/base",
            "top": null,
            "grid_column": null,
            "overflow_y": null,
            "overflow_x": null,
            "grid_auto_flow": null,
            "grid_area": null,
            "grid_template_columns": null,
            "flex": null,
            "_model_name": "LayoutModel",
            "justify_items": null,
            "grid_row": null,
            "max_height": null,
            "align_content": null,
            "visibility": null,
            "align_self": null,
            "height": null,
            "min_height": null,
            "padding": null,
            "grid_auto_rows": null,
            "grid_gap": null,
            "max_width": null,
            "order": null,
            "_view_module_version": "1.2.0",
            "grid_template_areas": null,
            "object_position": null,
            "object_fit": null,
            "grid_auto_columns": null,
            "margin": null,
            "display": null,
            "left": null
          }
        },
        "fa4a5657bf74472a98109ba9ff98f387": {
          "model_module": "@jupyter-widgets/controls",
          "model_name": "TextModel",
          "state": {
            "_view_name": "TextView",
            "style": "IPY_MODEL_1cbf0b28333e438a8f4cf380008e144d",
            "_dom_classes": [],
            "description": "email",
            "_model_name": "TextModel",
            "placeholder": "​",
            "_view_module": "@jupyter-widgets/controls",
            "_model_module_version": "1.5.0",
            "value": "",
            "_view_count": null,
            "disabled": false,
            "_view_module_version": "1.5.0",
            "continuous_update": true,
            "description_tooltip": null,
            "_model_module": "@jupyter-widgets/controls",
            "layout": "IPY_MODEL_dfd3bd71c3da45bda9ee48d736b8309a"
          }
        },
        "fd6ee49a5d1c4eeabe80382f257d4e50": {
          "model_module": "@jupyter-widgets/controls",
          "model_name": "PasswordModel",
          "state": {
            "_view_name": "PasswordView",
            "style": "IPY_MODEL_5ddfd4d5cc334b119dbf2529ee649a51",
            "_dom_classes": [],
            "description": "password",
            "_model_name": "PasswordModel",
            "placeholder": "​",
            "_view_module": "@jupyter-widgets/controls",
            "_model_module_version": "1.5.0",
            "value": "",
            "_view_count": null,
            "disabled": false,
            "_view_module_version": "1.5.0",
            "continuous_update": true,
            "description_tooltip": null,
            "_model_module": "@jupyter-widgets/controls",
            "layout": "IPY_MODEL_6a57a4910ed547b6800cc58f12b5b567"
          }
        },
        "68d68561136d45a1acd0e8a8fc480bb2": {
          "model_module": "@jupyter-widgets/controls",
          "model_name": "ButtonStyleModel",
          "state": {
            "_view_name": "StyleView",
            "_model_name": "ButtonStyleModel",
            "_view_module": "@jupyter-widgets/base",
            "_model_module_version": "1.5.0",
            "_view_count": null,
            "button_color": null,
            "font_weight": "",
            "_view_module_version": "1.2.0",
            "_model_module": "@jupyter-widgets/controls"
          }
        },
        "5d5646a234594742bb3c2eee2fe9f6cf": {
          "model_module": "@jupyter-widgets/base",
          "model_name": "LayoutModel",
          "state": {
            "_view_name": "LayoutView",
            "grid_template_rows": null,
            "right": null,
            "justify_content": null,
            "_view_module": "@jupyter-widgets/base",
            "overflow": null,
            "_model_module_version": "1.2.0",
            "_view_count": null,
            "flex_flow": null,
            "width": "150px",
            "min_width": null,
            "border": null,
            "align_items": null,
            "bottom": null,
            "_model_module": "@jupyter-widgets/base",
            "top": null,
            "grid_column": null,
            "overflow_y": null,
            "overflow_x": null,
            "grid_auto_flow": null,
            "grid_area": null,
            "grid_template_columns": null,
            "flex": null,
            "_model_name": "LayoutModel",
            "justify_items": null,
            "grid_row": null,
            "max_height": null,
            "align_content": null,
            "visibility": null,
            "align_self": null,
            "height": "53px",
            "min_height": null,
            "padding": null,
            "grid_auto_rows": null,
            "grid_gap": null,
            "max_width": null,
            "order": null,
            "_view_module_version": "1.2.0",
            "grid_template_areas": null,
            "object_position": null,
            "object_fit": null,
            "grid_auto_columns": null,
            "margin": null,
            "display": null,
            "left": null
          }
        },
        "0719293622ca4613b6dfbc16370b2d70": {
          "model_module": "@jupyter-widgets/controls",
          "model_name": "DescriptionStyleModel",
          "state": {
            "_view_name": "StyleView",
            "_model_name": "DescriptionStyleModel",
            "description_width": "",
            "_view_module": "@jupyter-widgets/base",
            "_model_module_version": "1.5.0",
            "_view_count": null,
            "_view_module_version": "1.2.0",
            "_model_module": "@jupyter-widgets/controls"
          }
        },
        "55e259235e6e4e8e8d0a82e380e01c40": {
          "model_module": "@jupyter-widgets/base",
          "model_name": "LayoutModel",
          "state": {
            "_view_name": "LayoutView",
            "grid_template_rows": null,
            "right": null,
            "justify_content": null,
            "_view_module": "@jupyter-widgets/base",
            "overflow": null,
            "_model_module_version": "1.2.0",
            "_view_count": null,
            "flex_flow": null,
            "width": "100px",
            "min_width": null,
            "border": null,
            "align_items": null,
            "bottom": null,
            "_model_module": "@jupyter-widgets/base",
            "top": null,
            "grid_column": null,
            "overflow_y": null,
            "overflow_x": null,
            "grid_auto_flow": null,
            "grid_area": null,
            "grid_template_columns": null,
            "flex": null,
            "_model_name": "LayoutModel",
            "justify_items": null,
            "grid_row": null,
            "max_height": null,
            "align_content": null,
            "visibility": null,
            "align_self": null,
            "height": null,
            "min_height": null,
            "padding": null,
            "grid_auto_rows": null,
            "grid_gap": null,
            "max_width": null,
            "order": null,
            "_view_module_version": "1.2.0",
            "grid_template_areas": null,
            "object_position": null,
            "object_fit": null,
            "grid_auto_columns": null,
            "margin": null,
            "display": null,
            "left": null
          }
        },
        "4f5d80e1efe34d45842c2cd9f5881c7d": {
          "model_module": "@jupyter-widgets/controls",
          "model_name": "ButtonStyleModel",
          "state": {
            "_view_name": "StyleView",
            "_model_name": "ButtonStyleModel",
            "_view_module": "@jupyter-widgets/base",
            "_model_module_version": "1.5.0",
            "_view_count": null,
            "button_color": null,
            "font_weight": "",
            "_view_module_version": "1.2.0",
            "_model_module": "@jupyter-widgets/controls"
          }
        },
        "afd0b0c449314a1bb6e9d9914640fbba": {
          "model_module": "@jupyter-widgets/base",
          "model_name": "LayoutModel",
          "state": {
            "_view_name": "LayoutView",
            "grid_template_rows": null,
            "right": null,
            "justify_content": null,
            "_view_module": "@jupyter-widgets/base",
            "overflow": null,
            "_model_module_version": "1.2.0",
            "_view_count": null,
            "flex_flow": null,
            "width": "200px",
            "min_width": null,
            "border": null,
            "align_items": null,
            "bottom": null,
            "_model_module": "@jupyter-widgets/base",
            "top": null,
            "grid_column": null,
            "overflow_y": null,
            "overflow_x": null,
            "grid_auto_flow": null,
            "grid_area": null,
            "grid_template_columns": null,
            "flex": null,
            "_model_name": "LayoutModel",
            "justify_items": null,
            "grid_row": null,
            "max_height": null,
            "align_content": null,
            "visibility": null,
            "align_self": null,
            "height": "53px",
            "min_height": null,
            "padding": null,
            "grid_auto_rows": null,
            "grid_gap": null,
            "max_width": null,
            "order": null,
            "_view_module_version": "1.2.0",
            "grid_template_areas": null,
            "object_position": null,
            "object_fit": null,
            "grid_auto_columns": null,
            "margin": null,
            "display": null,
            "left": null
          }
        },
        "1cbf0b28333e438a8f4cf380008e144d": {
          "model_module": "@jupyter-widgets/controls",
          "model_name": "DescriptionStyleModel",
          "state": {
            "_view_name": "StyleView",
            "_model_name": "DescriptionStyleModel",
            "description_width": "",
            "_view_module": "@jupyter-widgets/base",
            "_model_module_version": "1.5.0",
            "_view_count": null,
            "_view_module_version": "1.2.0",
            "_model_module": "@jupyter-widgets/controls"
          }
        },
        "dfd3bd71c3da45bda9ee48d736b8309a": {
          "model_module": "@jupyter-widgets/base",
          "model_name": "LayoutModel",
          "state": {
            "_view_name": "LayoutView",
            "grid_template_rows": null,
            "right": null,
            "justify_content": null,
            "_view_module": "@jupyter-widgets/base",
            "overflow": null,
            "_model_module_version": "1.2.0",
            "_view_count": null,
            "flex_flow": null,
            "width": "300px",
            "min_width": null,
            "border": null,
            "align_items": null,
            "bottom": null,
            "_model_module": "@jupyter-widgets/base",
            "top": null,
            "grid_column": null,
            "overflow_y": null,
            "overflow_x": null,
            "grid_auto_flow": null,
            "grid_area": null,
            "grid_template_columns": null,
            "flex": null,
            "_model_name": "LayoutModel",
            "justify_items": null,
            "grid_row": null,
            "max_height": null,
            "align_content": null,
            "visibility": null,
            "align_self": null,
            "height": "25px",
            "min_height": null,
            "padding": null,
            "grid_auto_rows": null,
            "grid_gap": null,
            "max_width": null,
            "order": null,
            "_view_module_version": "1.2.0",
            "grid_template_areas": null,
            "object_position": null,
            "object_fit": null,
            "grid_auto_columns": null,
            "margin": null,
            "display": null,
            "left": null
          }
        },
        "5ddfd4d5cc334b119dbf2529ee649a51": {
          "model_module": "@jupyter-widgets/controls",
          "model_name": "DescriptionStyleModel",
          "state": {
            "_view_name": "StyleView",
            "_model_name": "DescriptionStyleModel",
            "description_width": "",
            "_view_module": "@jupyter-widgets/base",
            "_model_module_version": "1.5.0",
            "_view_count": null,
            "_view_module_version": "1.2.0",
            "_model_module": "@jupyter-widgets/controls"
          }
        },
        "6a57a4910ed547b6800cc58f12b5b567": {
          "model_module": "@jupyter-widgets/base",
          "model_name": "LayoutModel",
          "state": {
            "_view_name": "LayoutView",
            "grid_template_rows": null,
            "right": null,
            "justify_content": null,
            "_view_module": "@jupyter-widgets/base",
            "overflow": null,
            "_model_module_version": "1.2.0",
            "_view_count": null,
            "flex_flow": null,
            "width": "300px",
            "min_width": null,
            "border": null,
            "align_items": null,
            "bottom": null,
            "_model_module": "@jupyter-widgets/base",
            "top": null,
            "grid_column": null,
            "overflow_y": null,
            "overflow_x": null,
            "grid_auto_flow": null,
            "grid_area": null,
            "grid_template_columns": null,
            "flex": null,
            "_model_name": "LayoutModel",
            "justify_items": null,
            "grid_row": null,
            "max_height": null,
            "align_content": null,
            "visibility": null,
            "align_self": null,
            "height": "24px",
            "min_height": null,
            "padding": null,
            "grid_auto_rows": null,
            "grid_gap": null,
            "max_width": null,
            "order": null,
            "_view_module_version": "1.2.0",
            "grid_template_areas": null,
            "object_position": null,
            "object_fit": null,
            "grid_auto_columns": null,
            "margin": null,
            "display": null,
            "left": null
          }
        }
      }
    }
  },
  "cells": [
    {
      "cell_type": "markdown",
      "metadata": {
        "id": "view-in-github",
        "colab_type": "text"
      },
      "source": [
        "<a href=\"https://colab.research.google.com/github/mildredarias/MachineLearning_La-CoNGA/blob/master/Copia_de_Copia_de_LAB_05_01_MEASURING_PREDICTIVITY_IMPACT.ipynb\" target=\"_parent\"><img src=\"https://colab.research.google.com/assets/colab-badge.svg\" alt=\"Open In Colab\"/></a>"
      ]
    },
    {
      "cell_type": "markdown",
      "metadata": {
        "id": "p4EygKMhYNI5"
      },
      "source": [
        "# LAB 05.01 - Predictions impact"
      ]
    },
    {
      "cell_type": "code",
      "metadata": {
        "id": "D2sEOV7vYNI-",
        "colab": {
          "base_uri": "https://localhost:8080/",
          "height": 57
        },
        "outputId": "813cc1f6-185d-4b96-a57b-7fc41dcf5d13"
      },
      "source": [
        "!wget --no-cache -O init.py -q https://raw.githubusercontent.com/rramosp/ai4eng.v1/main/content/init.py\n",
        "import init; init.init(force_download=False); init.get_weblink()\n"
      ],
      "execution_count": 28,
      "outputs": [
        {
          "output_type": "display_data",
          "data": {
            "text/html": [
              "\n",
              "<meta name=\"google-signin-client_id\"\n",
              "      content=\"461673936472-kdjosv61up3ac1ajeuq6qqu72upilmls.apps.googleusercontent.com\"/>\n",
              "<script src=\"https://apis.google.com/js/client:platform.js?onload=google_button_start\"></script>\n",
              "    "
            ],
            "text/plain": [
              "<IPython.core.display.HTML object>"
            ]
          },
          "metadata": {
            "tags": []
          }
        },
        {
          "output_type": "execute_result",
          "data": {
            "text/html": [
              "<h3>See <a href='https://m5knaekxo6.execute-api.us-west-2.amazonaws.com/dev-v0001/rlxmooc/web/login' target='_blank'>my courses and progress</a></h2>"
            ],
            "text/plain": [
              "<IPython.core.display.HTML object>"
            ]
          },
          "metadata": {
            "tags": []
          },
          "execution_count": 28
        }
      ]
    },
    {
      "cell_type": "code",
      "metadata": {
        "id": "FVO5rvswYNI_",
        "colab": {
          "base_uri": "https://localhost:8080/",
          "height": 135,
          "referenced_widgets": [
            "9eb1adf5533842cbbad307fee3c3dc1e",
            "e58376d5de8c44d0bc79fd6b67852849",
            "2025bd3718eb433eac05cb049039a661",
            "93f4703d58384a47a4fd16e61d1a2f8a",
            "afcd5c8c162f446abb0dc1511c2c6a00",
            "93e8cd6cc937472f838e1242c6f66f82",
            "f1d078f4fdea4b0d92213c41ad9cff0b",
            "fa4a5657bf74472a98109ba9ff98f387",
            "fd6ee49a5d1c4eeabe80382f257d4e50",
            "68d68561136d45a1acd0e8a8fc480bb2",
            "5d5646a234594742bb3c2eee2fe9f6cf",
            "0719293622ca4613b6dfbc16370b2d70",
            "55e259235e6e4e8e8d0a82e380e01c40",
            "4f5d80e1efe34d45842c2cd9f5881c7d",
            "afd0b0c449314a1bb6e9d9914640fbba",
            "1cbf0b28333e438a8f4cf380008e144d",
            "dfd3bd71c3da45bda9ee48d736b8309a",
            "5ddfd4d5cc334b119dbf2529ee649a51",
            "6a57a4910ed547b6800cc58f12b5b567"
          ]
        },
        "outputId": "aa5d6f29-b0aa-4f3c-f533-11901868ad68"
      },
      "source": [
        "from local.lib.rlxmoocapi import submit, session\n",
        "session.LoginSequence(endpoint=init.endpoint, course_id=init.course_id, lab_id=\"L05.01\", varname=\"student\");"
      ],
      "execution_count": 29,
      "outputs": [
        {
          "output_type": "stream",
          "text": [
            "logging in as mildarias181@gmail.com... please wait\n",
            "using course session ai4eng.v1::open\n",
            "success!! you are logged in\n"
          ],
          "name": "stdout"
        }
      ]
    },
    {
      "cell_type": "markdown",
      "metadata": {
        "id": "KzmenTiuYNJA"
      },
      "source": [
        "## Task 1. Compute PNL from strategy\n",
        "\n",
        "observe the following signal `s`, and model trend predictions `p` (not perfect predictions!!)"
      ]
    },
    {
      "cell_type": "code",
      "metadata": {
        "id": "NSvs7XSQYNJB",
        "colab": {
          "base_uri": "https://localhost:8080/"
        },
        "outputId": "305dac09-bea6-4743-e382-809963ac95b9"
      },
      "source": [
        "import numpy as np\n",
        "import matplotlib.pyplot as plt\n",
        "import pandas as pd\n",
        "%matplotlib inline\n",
        "s = np.round((np.random.normal(size=20)*5+.5).cumsum()+100,2)\n",
        "p = (np.random.random(size=len(s)-1)>.3).astype(int)\n",
        "print (s.shape, p.shape)"
      ],
      "execution_count": null,
      "outputs": [
        {
          "output_type": "stream",
          "text": [
            "(20,) (19,)\n"
          ],
          "name": "stdout"
        }
      ]
    },
    {
      "cell_type": "code",
      "metadata": {
        "id": "Z7fDXJciYNJC",
        "colab": {
          "base_uri": "https://localhost:8080/",
          "height": 330
        },
        "outputId": "753bfd93-312a-43ae-8641-031dbfd68a8a"
      },
      "source": [
        " \n",
        "plt.plot(s, color=\"black\")\n",
        "plt.scatter(np.arange(len(p))[p==0], s[:-1][p==0], color=\"red\", label=\"prediction down\")\n",
        "plt.scatter(np.arange(len(p))[p==1], s[:-1][p==1], color=\"blue\", label=\"prediction up\")\n",
        "plt.grid(); plt.legend(); plt.xlabel(\"time instant\"); plt.ylabel(\"price\")\n",
        "plt.xticks(range(len(s)), range(len(s)))\n",
        "pd.DataFrame(np.vstack((s,list(p)+[np.nan])), index=[\"signal\", \"prediction\"])\n",
        "print (\"SIGNAL    \", s)\n",
        "print (\"PREDICTION\", p)\n"
      ],
      "execution_count": null,
      "outputs": [
        {
          "output_type": "stream",
          "text": [
            "SIGNAL     [ 97.13  95.    95.78  99.68 102.83  97.41 102.59  95.77  93.95  92.99\n",
            "  83.83  80.07  80.37  83.69  84.18  86.27  88.71  85.23  89.32  75.52]\n",
            "PREDICTION [0 1 1 1 1 1 1 1 1 0 1 1 1 1 1 0 0 1 1]\n"
          ],
          "name": "stdout"
        },
        {
          "output_type": "display_data",
          "data": {
            "image/png": "[encoded data removed]",
            "text/plain": [
              "<Figure size 432x288 with 1 Axes>"
            ]
          },
          "metadata": {
            "tags": [],
            "needs_background": "light"
          }
        }
      ]
    },
    {
      "cell_type": "markdown",
      "metadata": {
        "id": "GmCwm4rQYNJD"
      },
      "source": [
        "fill in the `pnl` variable below with a list of 19 values corresponding on applying the same strategy as in the notes, buying or selling always ONE money unit:\n",
        "\n",
        "- if the prediction is zero, we believe the price is going down, so we sell ONE money unit at the current price and buy it at the next instant of time\n",
        "- if the prediction is one, we do the opposite\n",
        "- BUT there is a **commission** of 1%, applied on the instant you make the first operation (which uses the current price)\n",
        "\n",
        "observe that there are 20 signal points, and 19 predictions. \n",
        "\n",
        "you can use your tool of choice (Excel, Python, etc.) to compute your answer\n",
        "\n",
        "**HINT**: Understand each component of the expression for `perfect_prediction` below to try to obtain your answer with Python."
      ]
    },
    {
      "cell_type": "markdown",
      "metadata": {
        "id": "t-qaYyW1YNJE"
      },
      "source": [
        "\n",
        "\n",
        "**For instance**: the following signal and predictions:"
      ]
    },
    {
      "cell_type": "code",
      "metadata": {
        "id": "SHgxseqHYNJE",
        "colab": {
          "base_uri": "https://localhost:8080/",
          "height": 294
        },
        "outputId": "9fefa96b-ca52-4a81-d981-151f09b76640"
      },
      "source": [
        " \n",
        "from IPython.display import Image\n",
        "Image(\"local/imgs/timeseries-prediction.png\", width=600)\n"
      ],
      "execution_count": null,
      "outputs": [
        {
          "output_type": "execute_result",
          "data": {
            "image/png": "[encoded data removed]",
            "text/plain": [
              "<IPython.core.display.Image object>"
            ]
          },
          "metadata": {
            "tags": [],
            "image/png": {
              "width": 600
            }
          },
          "execution_count": 14
        }
      ]
    },
    {
      "cell_type": "markdown",
      "metadata": {
        "id": "6LqGeBr0YNJE"
      },
      "source": [
        "produce the following set of PNL\n",
        "\n",
        "     2.65 7.86 -0.31 7.48 2.61 2.19 1.33 -2.08 -2.71 -2.88 0.42 -5.39 3.03 1.53 3.45 9.88 10.70 -7.69 -0.60\n",
        "     \n",
        "- at `t=0` the PNL is $(107.06-103.38)\\times 1 - 103.38\\times 1 \\times .01=2.65$, since the prediction was correct\n",
        "- at `t=2` the PNL is $(116.84-115.99)\\times 1 - 115.99\\times 1 \\times .01=-0.31$, since the prediction was correct, BUT the price difference is small and the commission overcomes the profit.\n",
        "- at `t=7` the PNL is $(111.76 - 112.71)\\times1 - 112.71\\times1\\times.01=-2.08$, since the prediction was incorrect\n",
        "\n",
        "\n",
        "in the expressions above, the first term is the net profit or loss, and the second one is due to the commission. Multiplication by $1$ simply signals we are trading ONE unit."
      ]
    },
    {
      "cell_type": "markdown",
      "metadata": {
        "id": "Kc_pFAPQYNJF"
      },
      "source": [
        "also, observe that the following python code, will generate a perfect prediction signal, which, when applied to our strategy, will result in a list of all positive PNLs."
      ]
    },
    {
      "cell_type": "code",
      "metadata": {
        "id": "gWYM5NLtYNJF",
        "colab": {
          "base_uri": "https://localhost:8080/"
        },
        "outputId": "d979dc63-e2ed-4ea6-db55-3101fb908c4c"
      },
      "source": [
        "perfect_prediction = (s[1:]>s[:-1]).astype(int)\n",
        "perfect_prediction"
      ],
      "execution_count": null,
      "outputs": [
        {
          "output_type": "execute_result",
          "data": {
            "text/plain": [
              "array([0, 1, 1, 1, 0, 1, 0, 0, 0, 0, 0, 1, 1, 1, 1, 1, 0, 1, 0])"
            ]
          },
          "metadata": {
            "tags": []
          },
          "execution_count": 15
        }
      ]
    },
    {
      "cell_type": "markdown",
      "metadata": {
        "id": "Hs9-FLD6YNJF"
      },
      "source": [
        "**CHALLENGE 1** (not mandatory): make your answer in python\n",
        "\n",
        "**hints**:\n",
        "\n",
        "    s[1:]            will give you all elements of s except the first one\n",
        "    s[:-1]           will give you all elements of s except the last one\n",
        "    s[1:] - s[:-1]   will give you the difference of price in one time with respect to the next one\n",
        "    (p-0.5)*2        will convert vector p (containing 0's and 1's) into a vector of -1's and +1's"
      ]
    },
    {
      "cell_type": "code",
      "metadata": {
        "id": "Loy0U0k3YNJG",
        "colab": {
          "base_uri": "https://localhost:8080/"
        },
        "outputId": "e4736e6a-923f-422f-81c6-05c6b74066ec"
      },
      "source": [
        "s[1:] "
      ],
      "execution_count": null,
      "outputs": [
        {
          "output_type": "execute_result",
          "data": {
            "text/plain": [
              "array([ 95.  ,  95.78,  99.68, 102.83,  97.41, 102.59,  95.77,  93.95,\n",
              "        92.99,  83.83,  80.07,  80.37,  83.69,  84.18,  86.27,  88.71,\n",
              "        85.23,  89.32,  75.52])"
            ]
          },
          "metadata": {
            "tags": []
          },
          "execution_count": 16
        }
      ]
    },
    {
      "cell_type": "code",
      "metadata": {
        "id": "ZjwX25P5YNJG",
        "colab": {
          "base_uri": "https://localhost:8080/"
        },
        "outputId": "8e454407-2776-4d2c-97ac-bf7b8091a6ac"
      },
      "source": [
        "s[:-1]"
      ],
      "execution_count": null,
      "outputs": [
        {
          "output_type": "execute_result",
          "data": {
            "text/plain": [
              "array([ 97.13,  95.  ,  95.78,  99.68, 102.83,  97.41, 102.59,  95.77,\n",
              "        93.95,  92.99,  83.83,  80.07,  80.37,  83.69,  84.18,  86.27,\n",
              "        88.71,  85.23,  89.32])"
            ]
          },
          "metadata": {
            "tags": []
          },
          "execution_count": 17
        }
      ]
    },
    {
      "cell_type": "code",
      "metadata": {
        "id": "KH670Mw0YNJG",
        "colab": {
          "base_uri": "https://localhost:8080/"
        },
        "outputId": "a5dcdeee-3512-402b-e2cc-e4a9a765be8d"
      },
      "source": [
        "t=(s[1:]-s[:-1])*(p-0.5)*2 -s[:-1]*1*.01 \n",
        "t"
      ],
      "execution_count": null,
      "outputs": [
        {
          "output_type": "execute_result",
          "data": {
            "text/plain": [
              "array([  1.1587,  -0.17  ,   2.9422,   2.1532,  -6.4483,   4.2059,\n",
              "        -7.8459,  -2.7777,  -1.8995,   8.2301,  -4.5983,  -0.5007,\n",
              "         2.5163,  -0.3469,   1.2482,  -3.3027,   2.5929,   3.2377,\n",
              "       -14.6932])"
            ]
          },
          "metadata": {
            "tags": []
          },
          "execution_count": 18
        }
      ]
    },
    {
      "cell_type": "code",
      "metadata": {
        "colab": {
          "base_uri": "https://localhost:8080/"
        },
        "id": "IC1lIYiPuZmV",
        "outputId": "f1512b71-d1d9-42da-f753-e86cfc0a2ebb"
      },
      "source": [
        "(p-0.5)*2 "
      ],
      "execution_count": null,
      "outputs": [
        {
          "output_type": "execute_result",
          "data": {
            "text/plain": [
              "array([-1.,  1.,  1.,  1.,  1.,  1.,  1.,  1.,  1., -1.,  1.,  1.,  1.,\n",
              "        1.,  1., -1., -1.,  1.,  1.])"
            ]
          },
          "metadata": {
            "tags": []
          },
          "execution_count": 19
        }
      ]
    },
    {
      "cell_type": "markdown",
      "metadata": {
        "id": "l8SRDs2MYNJG"
      },
      "source": [
        "**fill in the following variable**"
      ]
    },
    {
      "cell_type": "code",
      "metadata": {
        "id": "-0SR8g06YNJG"
      },
      "source": [
        "pnl=[-2.3353,  3.0577,  0.4269,  2.9718,  6.5516, -4.8248, -0.0782,\n",
        "        3.0323, -3.1592,  5.8408, -4.349 ,  4.0534, -3.2679, -3.1165,\n",
        "        0.7434,  7.7347, -2.8941,  1.4093,  3.4127]"
      ],
      "execution_count": null,
      "outputs": []
    },
    {
      "cell_type": "markdown",
      "metadata": {
        "id": "UGh5DqdmYNJH"
      },
      "source": [
        "**submit your answer**"
      ]
    },
    {
      "cell_type": "code",
      "metadata": {
        "scrolled": false,
        "id": "EoBI4HaGYNJH",
        "colab": {
          "base_uri": "https://localhost:8080/",
          "height": 109
        },
        "outputId": "74b2574b-f80b-4b9e-a5d9-22b2e3b5c07a"
      },
      "source": [
        "student.submit_task(globals(), task_id=\"task_01\");"
      ],
      "execution_count": null,
      "outputs": [
        {
          "output_type": "display_data",
          "data": {
            "text/html": [
              "\n",
              "                    <b>task_01 submitted.</b> <b><font color=\"blue\">your grade is 5</font></b> \n",
              "                    <p/><pre>----- grader message -------</pre><b>correct</b><pre>----------------------------</pre>\n",
              "                    <p/><p/>\n",
              "                    <div style=\"font-size:10px\"><b>SUBMISSION CODE</b> Hv6vLM7e5Z70YL7xjB5NwqTeAYtv9gpJTgc78zdKPUnktpFE6Tq+7gwNh8LLVLaRBJAE1qxclIwRoflIEwPpmGz6IUupQcaw4V7bU+Ns9XzOIdiTzRr/FS+txG3gisO8owkenZyYEyjTP9CLlOyfBQ==</div>\n",
              "                    "
            ],
            "text/plain": [
              "<IPython.core.display.HTML object>"
            ]
          },
          "metadata": {
            "tags": []
          }
        }
      ]
    },
    {
      "cell_type": "markdown",
      "metadata": {
        "id": "j5l4Vw2eYNJI"
      },
      "source": [
        "## Task 2: Simulated prediction signal"
      ]
    },
    {
      "cell_type": "markdown",
      "metadata": {
        "id": "bfh14AHpYNJI"
      },
      "source": [
        "given the following signal, produce a synthetic prediction signal with the given percentage of correct predictions.\n",
        "\n",
        "observe that `s` has length 21, but your synthetic prediction will have a length of 20.\n",
        "\n",
        "fill in the variable `prediction`, with a list with 20 zeros or ones, containing a prediction with `acc` correct predictions.\n",
        "\n",
        "for instance, with the following signal\n",
        "\n",
        "        [100.37 102.92 102.69 104.57 105.06  97.9  103.   100.32  97.59 107.07\n",
        "         112.19 106.32 104.14 100.3   97.03 107.28 100.36 100.99 111.48 117.07\n",
        "         126.04]\n",
        "         \n",
        "the following predictions:\n",
        "\n",
        "        p = [1, 0, 1, 0, 0, 1, 1, 1, 1, 1, 1, 0, 0, 1, 1, 0, 0, 1, 0, 0]\n",
        "        \n",
        "produce a trend prediction accuracy of 60% (`acc=0.6`)\n",
        "\n",
        "**HINT**: Do it in Python\n",
        "\n",
        "- use the perfect prediction from the exercise above to start with.\n",
        "- use `np.random.permutation`\n",
        "\n",
        "for instance:"
      ]
    },
    {
      "cell_type": "markdown",
      "metadata": {
        "id": "lQdx2WdCYNJJ"
      },
      "source": [
        "**your signal and target accuracy to achieve**"
      ]
    },
    {
      "cell_type": "code",
      "metadata": {
        "id": "jMcHbDMKYNJJ",
        "colab": {
          "base_uri": "https://localhost:8080/"
        },
        "outputId": "c4f12249-71bc-41f7-e46d-ed3eb77da89f"
      },
      "source": [
        " import numpy as np\n",
        "s = ((np.random.normal(size=21)*5+.5).cumsum()+100).round(2)\n",
        "acc = np.round(np.random.random()*.9+.1, 1)\n",
        "print (\"YOUR SIGNAL\", s)\n",
        "print (\"THE ACCURACY YOUR SYNTHETIC PREDICTIONS MUST ACHIEVE: \", acc)\n"
      ],
      "execution_count": 4,
      "outputs": [
        {
          "output_type": "stream",
          "text": [
            "YOUR SIGNAL [101.53 111.97 109.51 112.42 110.31 115.7  125.28 122.21 123.74 123.7\n",
            " 127.56 134.63 142.01 144.98 148.16 149.03 147.42 152.03 150.52 159.35\n",
            " 159.11]\n",
            "THE ACCURACY YOUR SYNTHETIC PREDICTIONS MUST ACHIEVE:  0.9\n"
          ],
          "name": "stdout"
        }
      ]
    },
    {
      "cell_type": "code",
      "metadata": {
        "colab": {
          "base_uri": "https://localhost:8080/"
        },
        "id": "VBwx6nSoCgID",
        "outputId": "87e965ea-157b-4ff1-a29b-ff1064273a8f"
      },
      "source": [
        "import numpy as np\n",
        "p = (s[1:]>s[:-1]).astype(int)\n",
        "k = np.random.permutation(len(p)-1)[:8]\n",
        "\n",
        "for i in k:\n",
        "  if p[i]==0:\n",
        "      p[i]=1\n",
        "  else:\n",
        "     p[i]=0\n",
        "my_synthetic_prediction = p\n",
        "print(my_synthetic_prediction)"
      ],
      "execution_count": null,
      "outputs": [
        {
          "output_type": "stream",
          "text": [
            "[1 0 1 1 0 0 1 1 1 0 0 1 0 0 1 1 0 1 0 1]\n"
          ],
          "name": "stdout"
        }
      ]
    },
    {
      "cell_type": "markdown",
      "metadata": {
        "id": "pHcnabstYNJK"
      },
      "source": [
        "**submit your answer**"
      ]
    },
    {
      "cell_type": "code",
      "metadata": {
        "scrolled": true,
        "id": "0YG6F3DAYNJK",
        "colab": {
          "base_uri": "https://localhost:8080/",
          "height": 109
        },
        "outputId": "4ba8917f-05a6-4fde-97d1-d59d318c2d38"
      },
      "source": [
        "student.submit_task(globals(), task_id=\"task_02\");"
      ],
      "execution_count": null,
      "outputs": [
        {
          "output_type": "display_data",
          "data": {
            "text/html": [
              "\n",
              "                    <b>task_02 submitted.</b> <b><font color=\"blue\">your grade is 5</font></b> \n",
              "                    <p/><pre>----- grader message -------</pre><b>correct</b><pre>----------------------------</pre>\n",
              "                    <p/><p/>\n",
              "                    <div style=\"font-size:10px\"><b>SUBMISSION CODE</b> uZL0zGCUVNEXiMNtzcXMmrZ5bxRXGV1fGPDI019tSS1bCHQabZWI3M/tQGZcWlglYPShWr608vkgkt8Xf8pLAG8gNN6vzzB58AAKNqVx2ocFU1CGvQsgUBQILK4khlqsE+hULxEPoZu/45n23S/KUA==</div>\n",
              "                    "
            ],
            "text/plain": [
              "<IPython.core.display.HTML object>"
            ]
          },
          "metadata": {
            "tags": []
          }
        }
      ]
    },
    {
      "cell_type": "markdown",
      "metadata": {
        "id": "5XpoJBjoYNJK"
      },
      "source": [
        "## Task 3: ML Metric vs Business Metric\n",
        "\n",
        "now, your are given a signal (length=21) and you will have to create \n",
        "\n",
        "- an array of 9 rows x 20 columns with synthetic predictions so that the first row (row number zero in python) has accuracy of 10%, the second has 20%, etc.\n",
        "- a list of 9 numbers containing the PNL of using the synthetic predictions on the above array as input for a trading strategy.\n",
        "\n",
        "for instance, for this signal:\n",
        "\n",
        "    [101.33,  96.75,  98.2 ,  95.3 ,  97.96,  98.75,  92.46,  82.2 , 78.61,  80.  ,  \n",
        "      88.78,  98.72, 103.22, 113.65, 103.89, 107.36, 114.6 , 103.9 , 108.71, 104.2 , 107.8 ]\n",
        "\n",
        "you will have to create the following variables:\n",
        "\n",
        "    pset = np.array([[1, 1, 1, 0, 0, 1, 1, 1, 0, 0, 0, 0, 0, 1, 1, 0, 1, 0, 1, 0],\n",
        "                     [1, 0, 1, 0, 0, 1, 1, 1, 0, 1, 0, 1, 1, 1, 0, 1, 1, 0, 1, 0],\n",
        "                     [1, 0, 0, 0, 0, 0, 1, 1, 0, 1, 0, 1, 0, 1, 0, 1, 1, 0, 0, 0],\n",
        "                     [1, 0, 0, 0, 0, 1, 1, 1, 1, 1, 0, 1, 1, 1, 1, 1, 1, 0, 1, 1],\n",
        "                     [1, 1, 0, 0, 0, 0, 0, 0, 0, 0, 1, 1, 1, 0, 0, 0, 1, 0, 0, 0],\n",
        "                     [0, 1, 0, 1, 1, 1, 0, 0, 1, 1, 0, 0, 1, 1, 0, 0, 1, 1, 0, 0],\n",
        "                     [0, 1, 1, 0, 1, 0, 1, 0, 1, 1, 1, 1, 0, 0, 0, 1, 0, 1, 1, 1],\n",
        "                     [0, 1, 0, 1, 1, 0, 1, 0, 1, 1, 1, 1, 1, 0, 0, 0, 0, 1, 1, 1],\n",
        "                     [0, 1, 0, 0, 1, 0, 0, 0, 1, 1, 1, 1, 1, 0, 1, 1, 0, 0, 0, 1]])\n",
        "\n",
        "    \n",
        "    pnl = np.array([-121.5, -69.44, -62.90, -46.72, -4.08, -19.04, 23.5, 41.0, 77.02])\n",
        "    \n",
        "**NOTE**: Specify your PNL rounded to **TWO** decimal places"
      ]
    },
    {
      "cell_type": "code",
      "metadata": {
        "colab": {
          "base_uri": "https://localhost:8080/"
        },
        "id": "eBkHE7KZs4XS",
        "outputId": "65b50c56-d8f5-4a55-8b71-b12b61e7b038"
      },
      "source": [
        "s=[101.33,  96.75,  98.2 ,  95.3 ,  97.96,  98.75,  92.46,  82.2 , 78.61,  80., 88.78,  98.72, 103.22, 113.65, 103.89, 107.36, 114.6 , 103.9 , 108.71, 104.2 , 107.8]\n",
        "pl=[1, 1, 1, 0, 0, 1, 1, 1, 0, 0, 0, 0, 0, 1, 1, 0, 1, 0, 1, 0]\n",
        "\n",
        "m=len(pl)\n",
        "pnl=[]\n",
        "for i in range(0,m):\n",
        "    if s[i]<s[i+1]:\n",
        "          if pl[i]==1:\n",
        "              b=s[i+1]-s[i]-(s[i]*0.01)\n",
        "          else:\n",
        "              b=s[i]-s[i+1]-(s[i]*0.01)\n",
        "    else:\n",
        "          if pl[i]==0:\n",
        "                b=s[i]-s[i+1]-(s[i]*0.01)\n",
        "          else:\n",
        "                b=s[i+1]-s[i]-(s[i]*0.01)\n",
        "    pnl= np.append(pnl,b)\n",
        "    pnl=sum(pnl)\n",
        "print('pnl', '{:0.2f}'.format(pnl))"
      ],
      "execution_count": 5,
      "outputs": [
        {
          "output_type": "stream",
          "text": [
            "pnl -121.50\n"
          ],
          "name": "stdout"
        }
      ]
    },
    {
      "cell_type": "code",
      "metadata": {
        "id": "la39rAFJYNJL",
        "colab": {
          "base_uri": "https://localhost:8080/"
        },
        "outputId": "9e02db68-526f-48ed-95b4-c4d963c79196"
      },
      "source": [
        "s = ((np.random.normal(size=21)*5+.5).cumsum()+100).round(2)\n",
        "s"
      ],
      "execution_count": 6,
      "outputs": [
        {
          "output_type": "execute_result",
          "data": {
            "text/plain": [
              "array([105.62,  96.73,  94.74,  96.65, 104.07,  99.63, 100.85, 106.79,\n",
              "       107.2 , 109.72, 112.09, 108.02, 105.86, 118.18, 115.17, 117.53,\n",
              "       118.29, 121.66, 115.52, 116.82, 109.63])"
            ]
          },
          "metadata": {
            "tags": []
          },
          "execution_count": 6
        }
      ]
    },
    {
      "cell_type": "code",
      "metadata": {
        "id": "dFuJ-VXSYNJL",
        "colab": {
          "base_uri": "https://localhost:8080/"
        },
        "outputId": "2d1ddda6-56a3-4808-d412-f672d66c2789"
      },
      "source": [
        "p = (s[1:]>s[:-1]).astype(int)\n",
        "p"
      ],
      "execution_count": 7,
      "outputs": [
        {
          "output_type": "execute_result",
          "data": {
            "text/plain": [
              "array([0, 0, 1, 1, 0, 1, 1, 1, 1, 1, 0, 0, 1, 0, 1, 1, 1, 0, 1, 0])"
            ]
          },
          "metadata": {
            "tags": []
          },
          "execution_count": 7
        }
      ]
    },
    {
      "cell_type": "code",
      "metadata": {
        "colab": {
          "base_uri": "https://localhost:8080/"
        },
        "id": "3kUr81mNevvw",
        "outputId": "d30b26d0-3906-43c6-b2b5-09564c369d53"
      },
      "source": [
        "from sklearn.metrics import accuracy_score\n",
        "#0.9\n",
        "k = np.random.permutation(len(p)-1)[:2]\n",
        "\n",
        "for i in k:\n",
        "  if p[i]==0:\n",
        "      p[i]=1\n",
        "  else:\n",
        "     p[i]=0\n",
        "my_synthetic_prediction = p\n",
        "p = (s[1:]>s[:-1]).astype(int)\n",
        "print(accuracy_score(p,my_synthetic_prediction))\n",
        "print(my_synthetic_prediction)\n",
        "\n",
        "#0.8\n",
        "k = np.random.permutation(len(p)-1)[:4]\n",
        "\n",
        "for i in k:\n",
        "  if p[i]==0:\n",
        "      p[i]=1\n",
        "  else:\n",
        "     p[i]=0\n",
        "my_synthetic_prediction = p\n",
        "p = (s[1:]>s[:-1]).astype(int)\n",
        "print(accuracy_score(p,my_synthetic_prediction))\n",
        "print(my_synthetic_prediction)\n",
        "\n",
        "#0.7\n",
        "k = np.random.permutation(len(p)-1)[:6]\n",
        "\n",
        "for i in k:\n",
        "  if p[i]==0:\n",
        "      p[i]=1\n",
        "  else:\n",
        "     p[i]=0\n",
        "my_synthetic_prediction = p\n",
        "p = (s[1:]>s[:-1]).astype(int)\n",
        "print(accuracy_score(p,my_synthetic_prediction))\n",
        "print(my_synthetic_prediction)\n",
        "\n",
        "#0.6\n",
        "k = np.random.permutation(len(p)-1)[:8]\n",
        "\n",
        "for i in k:\n",
        "  if p[i]==0:\n",
        "      p[i]=1\n",
        "  else:\n",
        "     p[i]=0\n",
        "my_synthetic_prediction = p\n",
        "p = (s[1:]>s[:-1]).astype(int)\n",
        "print(accuracy_score(p,my_synthetic_prediction))\n",
        "print(my_synthetic_prediction)\n",
        "\n",
        "#0.5\n",
        "k = np.random.permutation(len(p)-1)[:10]\n",
        "\n",
        "for i in k:\n",
        "  if p[i]==0:\n",
        "      p[i]=1\n",
        "  else:\n",
        "     p[i]=0\n",
        "my_synthetic_prediction = p\n",
        "p = (s[1:]>s[:-1]).astype(int)\n",
        "print(accuracy_score(p,my_synthetic_prediction))\n",
        "print(my_synthetic_prediction)\n",
        "\n",
        "#0.4\n",
        "k = np.random.permutation(len(p)-1)[:12]\n",
        "\n",
        "for i in k:\n",
        "  if p[i]==0:\n",
        "      p[i]=1\n",
        "  else:\n",
        "     p[i]=0\n",
        "my_synthetic_prediction = p\n",
        "p = (s[1:]>s[:-1]).astype(int)\n",
        "print(accuracy_score(p,my_synthetic_prediction))\n",
        "print(my_synthetic_prediction)\n",
        "\n",
        "#0.3\n",
        "k = np.random.permutation(len(p)-1)[:14]\n",
        "\n",
        "for i in k:\n",
        "  if p[i]==0:\n",
        "      p[i]=1\n",
        "  else:\n",
        "     p[i]=0\n",
        "my_synthetic_prediction = p\n",
        "p = (s[1:]>s[:-1]).astype(int)\n",
        "print(accuracy_score(p,my_synthetic_prediction))\n",
        "print(my_synthetic_prediction)\n",
        "\n",
        "#0.2\n",
        "k = np.random.permutation(len(p)-1)[:16]\n",
        "\n",
        "for i in k:\n",
        "  if p[i]==0:\n",
        "      p[i]=1\n",
        "  else:\n",
        "     p[i]=0\n",
        "my_synthetic_prediction = p\n",
        "p = (s[1:]>s[:-1]).astype(int)\n",
        "print(accuracy_score(p,my_synthetic_prediction))\n",
        "print(my_synthetic_prediction)\n",
        "\n",
        "#0.1\n",
        "k = np.random.permutation(len(p)-1)[:18]\n",
        "\n",
        "for i in k:\n",
        "  if p[i]==0:\n",
        "      p[i]=1\n",
        "  else:\n",
        "     p[i]=0\n",
        "my_synthetic_prediction = p\n",
        "p = (s[1:]>s[:-1]).astype(int)\n",
        "print(accuracy_score(p,my_synthetic_prediction))\n",
        "print(my_synthetic_prediction)"
      ],
      "execution_count": 8,
      "outputs": [
        {
          "output_type": "stream",
          "text": [
            "0.9\n",
            "[0 0 1 1 0 1 1 1 1 1 1 0 1 0 1 1 1 0 0 0]\n",
            "0.8\n",
            "[1 0 1 1 0 0 1 1 1 0 0 0 1 0 1 0 1 0 1 0]\n",
            "0.7\n",
            "[1 1 1 1 0 0 1 1 1 1 0 0 0 0 1 0 1 1 1 0]\n",
            "0.6\n",
            "[0 1 0 0 0 0 1 1 0 1 0 0 1 1 1 1 0 1 1 0]\n",
            "0.5\n",
            "[0 1 0 0 0 1 0 0 1 0 1 1 1 1 1 0 1 0 1 0]\n",
            "0.4\n",
            "[1 1 1 0 1 0 0 1 1 0 1 0 1 1 0 0 1 0 0 0]\n",
            "0.3\n",
            "[1 0 1 0 1 0 0 0 0 1 0 1 0 1 1 0 0 1 0 0]\n",
            "0.2\n",
            "[1 1 0 0 1 0 0 0 0 0 1 1 0 1 1 1 0 1 1 0]\n",
            "0.1\n",
            "[1 1 0 0 1 0 0 0 0 0 0 1 0 1 0 0 0 1 0 0]\n"
          ],
          "name": "stdout"
        }
      ]
    },
    {
      "cell_type": "code",
      "metadata": {
        "id": "gmUxq8V0B8z_"
      },
      "source": [
        "pset = np.array([[1, 1, 0, 0, 1, 0, 0, 0 ,0 ,0, 0, 1, 0, 1, 0, 0, 0, 1, 0, 0],[1, 1, 0, 0, 1, 0, 0, 0, 0, 0, 1, 1, 0, 1, 1, 1, 0, 1, 1, 0],[1, 0, 1, 0, 1, 0, 0, 0, 0, 1, 0, 1, 0, 1, 1, 0, 0, 1, 0, 0],[1, 1, 1, 0, 1, 0, 0, 1, 1, 0, 1, 0, 1, 1, 0, 0, 1, 0, 0, 0],[0, 1, 0, 0, 0, 1, 0, 0, 1, 0, 1, 1, 1, 1, 1, 0, 1, 0, 1, 0],[0, 1, 0, 0, 0, 0, 1, 1, 0, 1, 0, 0, 1, 1, 1, 1, 0, 1, 1, 0],[1, 1, 1, 1, 0, 0, 1, 1, 1, 1, 0, 0, 0, 0, 1, 0, 1, 1, 1, 0],[1, 0, 1, 1, 0, 0, 1, 1, 1, 0, 0, 0, 1, 0, 1, 0, 1, 0, 1, 0],[0, 0, 1, 1, 0, 1, 1, 1, 1, 1, 1, 0, 1, 0, 1, 1, 1, 0, 0, 0]])"
      ],
      "execution_count": 24,
      "outputs": []
    },
    {
      "cell_type": "code",
      "metadata": {
        "id": "l3ftQkFVEXMh"
      },
      "source": [
        "#[0, 0, 1, 1, 0, 1, 1, 1, 1, 1, 1, 0, 1, 0, 1, 1, 1, 0, 0, 0],[1, 0, 1, 1, 0, 0, 1, 1, 1, 0, 0, 0, 1, 0, 1, 0, 1, 0, 1, 0],[1, 1, 1, 1, 0, 0, 1, 1, 1, 1, 0, 0, 0, 0, 1, 0, 1, 1, 1, 0],[0, 1, 0, 0, 0, 0, 1, 1, 0, 1, 0, 0, 1, 1, 1, 1, 0, 1, 1, 0],[0, 1, 0, 0, 0, 1, 0, 0, 1, 0, 1, 1, 1, 1, 1, 0, 1, 0, 1, 0],[1, 1, 1, 0, 1, 0, 0, 1, 1, 0, 1, 0, 1, 1, 0, 0, 1, 0, 0, 0],[1, 0, 1, 0, 1, 0, 0, 0, 0, 1, 0, 1, 0, 1, 1, 0, 0, 1, 0, 0],[1, 1, 0, 0, 1, 0, 0, 0, 0, 0, 1, 1, 0, 1, 1, 1, 0, 1, 1, 0],[1, 1, 0, 0, 1, 0, 0, 0 ,0 ,0, 0, 1, 0, 1, 0, 0, 0, 1, 0, 0]"
      ],
      "execution_count": null,
      "outputs": []
    },
    {
      "cell_type": "code",
      "metadata": {
        "colab": {
          "base_uri": "https://localhost:8080/"
        },
        "id": "EWX0RVXtkVBe",
        "outputId": "80e96f4d-588f-4f1f-d4ba-851c71475914"
      },
      "source": [
        "p1=[0, 0, 1, 1, 0, 1, 1, 1, 1, 1, 1, 0, 1, 0, 1, 1, 1, 0, 0, 0]\n",
        "m1=len(p1)\n",
        "pnl1=[]\n",
        "for i in range(0,m1):\n",
        "    if s[i]<s[i+1]:\n",
        "          if p1[i]==1:\n",
        "              b=s[i+1]-s[i]-(s[i]*0.01)\n",
        "          else:\n",
        "              b=s[i]-s[i+1]-(s[i]*0.01)\n",
        "    else:\n",
        "          if p1[i]==0:\n",
        "                b=s[i]-s[i+1]-(s[i]*0.01)\n",
        "          else:\n",
        "                b=s[i+1]-s[i]-(s[i]*0.01)\n",
        "    pnl1= np.append(pnl1,b)\n",
        "    pnl1=sum(pnl1)\n",
        "print('pnl', '{:0.2f}'.format(pnl1))\n",
        "\n",
        "\n",
        "p2=[1, 0, 1, 1, 0, 0, 1, 1, 1, 0, 0, 0, 1, 0, 1, 0, 1, 0, 1, 0]\n",
        "m2=len(p2)\n",
        "pnl2=[]\n",
        "for i in range(0,m2):\n",
        "    if s[i]<s[i+1]:\n",
        "          if p2[i]==1:\n",
        "              b=s[i+1]-s[i]-(s[i]*0.01)\n",
        "          else:\n",
        "              b=s[i]-s[i+1]-(s[i]*0.01)\n",
        "    else:\n",
        "          if p2[i]==0:\n",
        "                b=s[i]-s[i+1]-(s[i]*0.01)\n",
        "          else:\n",
        "                b=s[i+1]-s[i]-(s[i]*0.01)\n",
        "    pnl2= np.append(pnl2,b)\n",
        "    pnl2=sum(pnl2)\n",
        "print('pnl', '{:0.2f}'.format(pnl2))\n",
        "\n",
        "\n",
        "p3=[1, 1, 1, 1, 0, 0, 1, 1, 1, 1, 0, 0, 0, 0, 1, 0, 1, 1, 1, 0]\n",
        "m3=len(p3)\n",
        "pnl3=[]\n",
        "for i in range(0,m3):\n",
        "    if s[i]<s[i+1]:\n",
        "          if p3[i]==1:\n",
        "              b=s[i+1]-s[i]-(s[i]*0.01)\n",
        "          else:\n",
        "              b=s[i]-s[i+1]-(s[i]*0.01)\n",
        "    else:\n",
        "          if p3[i]==0:\n",
        "                b=s[i]-s[i+1]-(s[i]*0.01)\n",
        "          else:\n",
        "                b=s[i+1]-s[i]-(s[i]*0.01)\n",
        "    pnl3= np.append(pnl3,b)\n",
        "    pnl3=sum(pnl3)\n",
        "print('pnl', '{:0.2f}'.format(pnl3))\n",
        "\n",
        "p4=[0, 1, 0, 0, 0, 0, 1, 1, 0, 1, 0, 0, 1, 1, 1, 1, 0, 1, 1, 0]\n",
        "m4=len(p4)\n",
        "pnl4=[]\n",
        "for i in range(0,m4):\n",
        "    if s[i]<s[i+1]:\n",
        "          if p4[i]==1:\n",
        "              b=s[i+1]-s[i]-(s[i]*0.01)\n",
        "          else:\n",
        "              b=s[i]-s[i+1]-(s[i]*0.01)\n",
        "    else:\n",
        "          if p4[i]==0:\n",
        "                b=s[i]-s[i+1]-(s[i]*0.01)\n",
        "          else:\n",
        "                b=s[i+1]-s[i]-(s[i]*0.01)\n",
        "    pnl4= np.append(pnl4,b)\n",
        "    pnl4=sum(pnl4)\n",
        "print('pnl', '{:0.2f}'.format(pnl4))\n",
        "\n",
        "\n",
        "p5=[0, 1, 0, 0, 0, 1, 0, 0, 1, 0, 1, 1, 1, 1, 1, 0, 1, 0, 1, 0]\n",
        "m5=len(p5)\n",
        "pnl5=[]\n",
        "for i in range(0,m5):\n",
        "    if s[i]<s[i+1]:\n",
        "          if p5[i]==1:\n",
        "              b=s[i+1]-s[i]-(s[i]*0.01)\n",
        "          else:\n",
        "              b=s[i]-s[i+1]-(s[i]*0.01)\n",
        "    else:\n",
        "          if p5[i]==0:\n",
        "                b=s[i]-s[i+1]-(s[i]*0.01)\n",
        "          else:\n",
        "                b=s[i+1]-s[i]-(s[i]*0.01)\n",
        "    pnl5= np.append(pnl5,b)\n",
        "    pnl5=sum(pnl5)\n",
        "print('pnl', '{:0.2f}'.format(pnl5))\n",
        "\n",
        "p6=[1, 1, 1, 0, 1, 0, 0, 1, 1, 0, 1, 0, 1, 1, 0, 0, 1, 0, 0, 0]\n",
        "m6=len(p6)\n",
        "pnl6=[]\n",
        "for i in range(0,m6):\n",
        "    if s[i]<s[i+1]:\n",
        "          if p6[i]==1:\n",
        "              b=s[i+1]-s[i]-(s[i]*0.01)\n",
        "          else:\n",
        "              b=s[i]-s[i+1]-(s[i]*0.01)\n",
        "    else:\n",
        "          if p6[i]==0:\n",
        "                b=s[i]-s[i+1]-(s[i]*0.01)\n",
        "          else:\n",
        "                b=s[i+1]-s[i]-(s[i]*0.01)\n",
        "    pnl6= np.append(pnl6,b)\n",
        "    pnl6=sum(pnl6)\n",
        "print('pnl', '{:0.2f}'.format(pnl6))\n",
        "\n",
        "p7=[1, 0 ,1, 0, 1, 0, 0, 0, 0, 1, 0, 1, 0, 1, 1, 0, 0, 1, 0, 0]\n",
        "m7=len(p7)\n",
        "pnl7=[]\n",
        "for i in range(0,m7):\n",
        "    if s[i]<s[i+1]:\n",
        "          if p7[i]==1:\n",
        "              b=s[i+1]-s[i]-(s[i]*0.01)\n",
        "          else:\n",
        "              b=s[i]-s[i+1]-(s[i]*0.01)\n",
        "    else:\n",
        "          if p7[i]==0:\n",
        "                b=s[i]-s[i+1]-(s[i]*0.01)\n",
        "          else:\n",
        "                b=s[i+1]-s[i]-(s[i]*0.01)\n",
        "    pnl7= np.append(pnl7,b)\n",
        "    pnl7=sum(pnl7)\n",
        "print('pnl', '{:0.2f}'.format(pnl7))\n",
        "\n",
        "p8=[1, 1, 0, 0, 1, 0, 0, 0, 0, 0, 1, 1, 0, 1, 1, 1, 0, 1, 1, 0]\n",
        "m8=len(p8)\n",
        "pnl8=[]\n",
        "for i in range(0,m8):\n",
        "    if s[i]<s[i+1]:\n",
        "          if p8[i]==1:\n",
        "              b=s[i+1]-s[i]-(s[i]*0.01)\n",
        "          else:\n",
        "              b=s[i]-s[i+1]-(s[i]*0.01)\n",
        "    else:\n",
        "          if p8[i]==0:\n",
        "                b=s[i]-s[i+1]-(s[i]*0.01)\n",
        "          else:\n",
        "                b=s[i+1]-s[i]-(s[i]*0.01)\n",
        "    pnl8= np.append(pnl8,b)\n",
        "    pnl8=sum(pnl8)\n",
        "print('pnl', '{:0.2f}'.format(pnl8))\n",
        "\n",
        "p9=[1, 1, 0, 0, 1, 0, 0, 0, 0, 0, 0, 1, 0, 1, 0, 0, 0, 1, 0, 0]\n",
        "m9=len(p9)\n",
        "pnl9=[]\n",
        "for i in range(0,m9):\n",
        "    if s[i]<s[i+1]:\n",
        "          if p9[i]==1:\n",
        "              b=s[i+1]-s[i]-(s[i]*0.01)\n",
        "          else:\n",
        "              b=s[i]-s[i+1]-(s[i]*0.01)\n",
        "    else:\n",
        "          if p9[i]==0:\n",
        "                b=s[i]-s[i+1]-(s[i]*0.01)\n",
        "          else:\n",
        "                b=s[i+1]-s[i]-(s[i]*0.01)\n",
        "    pnl9= np.append(pnl9,b)\n",
        "    pnl9=sum(pnl9)\n",
        "print('pnl', '{:0.2f}'.format(pnl9))"
      ],
      "execution_count": 25,
      "outputs": [
        {
          "output_type": "stream",
          "text": [
            "pnl 47.34\n",
            "pnl 31.60\n",
            "pnl -4.56\n",
            "pnl 2.92\n",
            "pnl -2.00\n",
            "pnl -29.46\n",
            "pnl -61.72\n",
            "pnl -78.28\n",
            "pnl -78.98\n"
          ],
          "name": "stdout"
        }
      ]
    },
    {
      "cell_type": "code",
      "metadata": {
        "id": "8sFlZHlKl6oy"
      },
      "source": [
        "pnl=np.array([-78.98,-78.28,-61.72,-29.46,-2.00,2.92,-4.56,31.60,47.34])"
      ],
      "execution_count": 31,
      "outputs": []
    },
    {
      "cell_type": "markdown",
      "metadata": {
        "id": "D-pdmW_sYNJL"
      },
      "source": [
        "**submit your answer**"
      ]
    },
    {
      "cell_type": "code",
      "metadata": {
        "scrolled": true,
        "id": "NlaEc1suYNJL",
        "colab": {
          "base_uri": "https://localhost:8080/",
          "height": 109
        },
        "outputId": "3910b688-c128-4443-ba02-f601646f1913"
      },
      "source": [
        "student.submit_task(globals(), task_id=\"task_03\");"
      ],
      "execution_count": 32,
      "outputs": [
        {
          "output_type": "display_data",
          "data": {
            "text/html": [
              "\n",
              "                    <b>task_03 submitted.</b> <b><font color=\"blue\">your grade is 5</font></b> \n",
              "                    <p/><pre>----- grader message -------</pre><b>correct</b><pre>----------------------------</pre>\n",
              "                    <p/><p/>\n",
              "                    <div style=\"font-size:10px\"><b>SUBMISSION CODE</b> Gi9JrmJ4UDrsYYFEs9mdMl5JoM2raviU/dFZI6G5M43Rk0EvgO0mEwAyrlj7ltC7H/AyMBv7hl2yruC2g7xyMJtyJpi0YO5wnh85yD06V2Mneu9S2WPPVluGU9WLVX6IbZYf93lB9KS2jgby+uyoMw==</div>\n",
              "                    "
            ],
            "text/plain": [
              "<IPython.core.display.HTML object>"
            ]
          },
          "metadata": {
            "tags": []
          }
        }
      ]
    },
    {
      "cell_type": "markdown",
      "metadata": {
        "id": "ZrPfdpihYNJM"
      },
      "source": [
        "### understand accuracy vs. PNL\n",
        "\n",
        "- what is the minimum accuracy from which a model might be profitable?\n",
        "- and if the commision changes?"
      ]
    },
    {
      "cell_type": "code",
      "metadata": {
        "id": "HsE8Cj6EYNJM",
        "colab": {
          "base_uri": "https://localhost:8080/",
          "height": 231
        },
        "outputId": "23151407-3fba-4877-ac5a-3ec43945c5d7"
      },
      "source": [
        " \n",
        "accuracies = np.linspace(.1,.9,9)\n",
        "plt.plot(accuracies, pnl)\n",
        "plt.axhline(0, color=\"black\", lw=2)\n",
        "plt.title(\"ML metric vs. Busines metric\")\n",
        "plt.grid(); plt.xlabel(\"model accuracy\"); plt.ylabel(\"PNL\")\n"
      ],
      "execution_count": 33,
      "outputs": [
        {
          "output_type": "error",
          "ename": "NameError",
          "evalue": "ignored",
          "traceback": [
            "\u001b[0;31m---------------------------------------------------------------------------\u001b[0m",
            "\u001b[0;31mNameError\u001b[0m                                 Traceback (most recent call last)",
            "\u001b[0;32m<ipython-input-33-f8078b99a5d8>\u001b[0m in \u001b[0;36m<module>\u001b[0;34m()\u001b[0m\n\u001b[1;32m      1\u001b[0m \u001b[0;34m\u001b[0m\u001b[0m\n\u001b[1;32m      2\u001b[0m \u001b[0maccuracies\u001b[0m \u001b[0;34m=\u001b[0m \u001b[0mnp\u001b[0m\u001b[0;34m.\u001b[0m\u001b[0mlinspace\u001b[0m\u001b[0;34m(\u001b[0m\u001b[0;36m.1\u001b[0m\u001b[0;34m,\u001b[0m\u001b[0;36m.9\u001b[0m\u001b[0;34m,\u001b[0m\u001b[0;36m9\u001b[0m\u001b[0;34m)\u001b[0m\u001b[0;34m\u001b[0m\u001b[0;34m\u001b[0m\u001b[0m\n\u001b[0;32m----> 3\u001b[0;31m \u001b[0mplt\u001b[0m\u001b[0;34m.\u001b[0m\u001b[0mplot\u001b[0m\u001b[0;34m(\u001b[0m\u001b[0maccuracies\u001b[0m\u001b[0;34m,\u001b[0m \u001b[0mpnl\u001b[0m\u001b[0;34m)\u001b[0m\u001b[0;34m\u001b[0m\u001b[0;34m\u001b[0m\u001b[0m\n\u001b[0m\u001b[1;32m      4\u001b[0m \u001b[0mplt\u001b[0m\u001b[0;34m.\u001b[0m\u001b[0maxhline\u001b[0m\u001b[0;34m(\u001b[0m\u001b[0;36m0\u001b[0m\u001b[0;34m,\u001b[0m \u001b[0mcolor\u001b[0m\u001b[0;34m=\u001b[0m\u001b[0;34m\"black\"\u001b[0m\u001b[0;34m,\u001b[0m \u001b[0mlw\u001b[0m\u001b[0;34m=\u001b[0m\u001b[0;36m2\u001b[0m\u001b[0;34m)\u001b[0m\u001b[0;34m\u001b[0m\u001b[0;34m\u001b[0m\u001b[0m\n\u001b[1;32m      5\u001b[0m \u001b[0mplt\u001b[0m\u001b[0;34m.\u001b[0m\u001b[0mtitle\u001b[0m\u001b[0;34m(\u001b[0m\u001b[0;34m\"ML metric vs. Busines metric\"\u001b[0m\u001b[0;34m)\u001b[0m\u001b[0;34m\u001b[0m\u001b[0;34m\u001b[0m\u001b[0m\n",
            "\u001b[0;31mNameError\u001b[0m: name 'plt' is not defined"
          ]
        }
      ]
    },
    {
      "cell_type": "code",
      "metadata": {
        "id": "BzDvzR36Gs43"
      },
      "source": [
        ""
      ],
      "execution_count": null,
      "outputs": []
    }
  ]
}